{
 "cells": [
  {
   "cell_type": "markdown",
   "id": "c4db9ddd-3487-4987-8cbc-8891bce8cf56",
   "metadata": {},
   "source": [
    "# Libraries"
   ]
  },
  {
   "cell_type": "code",
   "execution_count": null,
   "id": "e8de08fe-de9c-4998-91a6-d101e5fe0445",
   "metadata": {},
   "outputs": [],
   "source": [
    "%matplotlib inline\n",
    "from collections.abc import Iterable, Sequence\n",
    "from collections import Counter\n",
    "from collections import defaultdict\n",
    "import copy\n",
    "import enum\n",
    "import time\n",
    "from datetime import datetime\n",
    "import calendar\n",
    "import pandas as pd\n",
    "import numpy as np\n",
    "from matplotlib import pyplot as plt\n",
    "from scipy import sparse\n",
    "import re\n",
    "import nltk\n",
    "\n",
    "from sklearn.base import BaseEstimator, TransformerMixin\n",
    "from sklearn.feature_extraction.text import CountVectorizer, TfidfTransformer\n",
    "from sklearn.feature_extraction import DictVectorizer\n",
    "from sklearn.preprocessing import StandardScaler\n",
    "from sklearn.svm import SVC\n",
    "from sklearn.linear_model import LogisticRegression\n",
    "from sklearn.ensemble import RandomForestClassifier, VotingClassifier, IsolationForest\n",
    "from sklearn.naive_bayes import MultinomialNB\n",
    "from sklearn.model_selection import GridSearchCV, StratifiedShuffleSplit, cross_val_score\n",
    "from sklearn.metrics import RocCurveDisplay\n",
    "from sklearn.pipeline import Pipeline\n",
    "\n",
    "from imblearn import FunctionSampler\n",
    "from imblearn.pipeline import make_pipeline\n",
    "\n",
    "import seaborn"
   ]
  },
  {
   "cell_type": "markdown",
   "id": "18210bed-9ba8-49da-b1a4-d6429cebbc0c",
   "metadata": {},
   "source": [
    "# Load data"
   ]
  },
  {
   "cell_type": "code",
   "execution_count": null,
   "id": "769dd38a-c0ab-4c93-81b7-f558bbfcda45",
   "metadata": {},
   "outputs": [],
   "source": [
    "#####################\n",
    "# Utility Functions #\n",
    "#####################\n",
    "\n",
    "def get_dataframes_from_csv(path_to_features, path_to_targets=None):\n",
    "    \"\"\"\n",
    "    Get Pandas DataFrames for features and targets\n",
    "    \"\"\"\n",
    "    features_dataframe = pd.read_csv(path_to_features, encoding=\"utf8\")\n",
    "    \n",
    "    if not path_to_targets:\n",
    "        return features_dataframe\n",
    "    \n",
    "    targets_dataframe = pd.read_csv(path_to_targets)\n",
    "    return features_dataframe, targets_dataframe\n",
    "\n",
    "def get_features_from_dataframe(features_dataframe) -> tuple[list, list, list, list]:\n",
    "    \"\"\"\n",
    "    Get all feature columns as lists from DataFrame\n",
    "    \"\"\"\n",
    "    usernames = list(features_dataframe.author)\n",
    "    comments = list(features_dataframe.body)\n",
    "    subreddits = list(features_dataframe.subreddit)\n",
    "    created_utc = list(features_dataframe.created_utc)\n",
    "    return usernames, comments, subreddits, created_utc\n",
    "\n",
    "def get_targets_from_dataframe(features_dataframe, targets_dataframe) -> list[int]:\n",
    "    \"\"\"\n",
    "    Get targets as lists from DataFrame\n",
    "    \"\"\"\n",
    "    targets_dictionary : dict[str, int] = dict(zip(targets_dataframe.author, \n",
    "                                                   targets_dataframe.gender))\n",
    "    targets : list[int] = list(map(lambda a: targets_dictionary[a], features_dataframe.author))\n",
    "    return targets"
   ]
  },
  {
   "cell_type": "code",
   "execution_count": null,
   "id": "15ff3fe7-5e0d-4d60-ba2e-0faa56a4fc2c",
   "metadata": {},
   "outputs": [
    {
     "name": "stdout",
     "output_type": "stream",
     "text": [
      "[\"I don't think we'd get nearly as much fanfiction and pictures shipping Ban-Ban and Lyro. Just saying.\", \"Thanks. I made it up, that's how I got over my first heart break. \", \"Are you sure you aren't confusing Cyclops (the easiest boss monster) for Ogres? I'm talking about [these guys](http://i.imgur.com/c3YKPdI.jpg)\\n\\nMaybe I'm just a bad player... But every time I faced one on my first playthrough, all my pawns ended up getting to 0 HP at least once and I could barely get an attack in once it started berserking.\"]\n",
      "[0, 1, 0]\n"
     ]
    }
   ],
   "source": [
    "#############\n",
    "# Execution #\n",
    "#############\n",
    "\n",
    "training_features_dataframe, training_targets_dataframe = get_dataframes_from_csv(\"data/train_data.csv\", \n",
    "                                                                             \"data/train_target.csv\")\n",
    "training_comments : list[str] = list(training_features_dataframe.body)\n",
    "training_targets : list[int] = get_targets_from_dataframe(training_features_dataframe, \n",
    "                                                          training_targets_dataframe)\n",
    "\n",
    "print(training_comments[:3])\n",
    "print(training_targets[:3])"
   ]
  },
  {
   "cell_type": "markdown",
   "id": "8f4bfc8a-0b65-4c1f-8b93-449af6c03abc",
   "metadata": {},
   "source": [
    "# Group by author"
   ]
  },
  {
   "cell_type": "code",
   "execution_count": null,
   "id": "6c61ab8c-0af7-43b0-82d3-f92bab338c24",
   "metadata": {},
   "outputs": [],
   "source": [
    "#####################\n",
    "# Utility Functions #\n",
    "#####################\n",
    "\n",
    "def group_dataframe_by_author(features_dataframe):\n",
    "    \"\"\"\n",
    "    Group all features in the dataframe by author.\n",
    "    \"\"\"\n",
    "    return features_dataframe.groupby('author', as_index=False).agg({\n",
    "                         'subreddit':join_strings, \n",
    "                         'body':join_strings, \n",
    "                         'created_utc': join_ints})\n",
    "\n",
    "def join_strings(x : Iterable[str]):\n",
    "    \"\"\"\n",
    "    Join all elements of a list/iterable of strings with a white-space in-between.\n",
    "    \"\"\"\n",
    "    return ' '.join(x)\n",
    "\n",
    "def join_ints(x : Iterable[int]):\n",
    "    \"\"\"\n",
    "    Join all elements of a list/iterable of ints with a comma in-between.\n",
    "    \"\"\"\n",
    "    return ','.join(map(lambda i: str(i), x))\n"
   ]
  },
  {
   "cell_type": "code",
   "execution_count": null,
   "id": "36df8edb-e200-4b2b-8b4f-58018040081c",
   "metadata": {},
   "outputs": [
    {
     "name": "stdout",
     "output_type": "stream",
     "text": [
      "           author                                          subreddit  \\\n",
      "0          -Jared   AskReddit tall pics StarWars AskReddit AskReddit   \n",
      "1         -Peeter                                             gainit   \n",
      "2        -evasian  MouseReview MechanicalKeyboards jailbreak jail...   \n",
      "3         -rubiks  AskWomen AskWomen AskWomen AskWomen AskWomen A...   \n",
      "4  -true_neutral-                    mildlyinteresting todayilearned   \n",
      "\n",
      "                                                body  \\\n",
      "0  Neil Diamond - Sweet Caroline +1 on the chirop...   \n",
      "1                         Just read the FAQ, really.   \n",
      "2  I just received my Deathadder Black Edition ye...   \n",
      "3  AlunaGeorge - Best Be Believing\\nArctic Monkey...   \n",
      "4  &gt; Urban Ears Metis\\n\\nYMMV. I have had thre...   \n",
      "\n",
      "                                         created_utc  \n",
      "0  1390189315.0,1390189970.0,1390492589.0,1390496...  \n",
      "1                                       1389962703.0  \n",
      "2  1388678755.0,1388688144.0,1389891805.0,1389892...  \n",
      "3  1389194620.0,1389500510.0,1389881305.0,1389882...  \n",
      "4                          1391042356.0,1391143961.0  \n",
      "['Neil Diamond - Sweet Caroline +1 on the chiropractor. I went religiously from ages 14 - 19 due to extreme lower back pain from running track / cross country. It\\'s important to remember it\\'s a somewhat slow process, but worth the results. \\n\\nOh, and don\\'t worry, they aren\\'t cracking your back - its just an \"adjustment\"  Looks like the pattern on the envelope that middle school photos came in.  If you had a bad motivator would you want to spell that out every time? And nothing beats a hangover quite like bacon (or better yet, Taylor ham), eggs over easy, toast, and hash browns! No, I think YOU mean Taylor Ham... Really, whatever you call it doesn\\'t matter, its damn delicious. ']\n",
      "[0, 0, 0, 1, 0]\n"
     ]
    }
   ],
   "source": [
    "#############\n",
    "# Execution #\n",
    "#############\n",
    "\n",
    "training_features_dataframe_groupby_author = group_dataframe_by_author(training_features_dataframe)\n",
    "\n",
    "training_comments_groupby_author : list[str] = list(training_features_dataframe_groupby_author.body)\n",
    "training_targets_groupby_author : list[int] = get_targets_from_dataframe(training_features_dataframe_groupby_author, training_targets_dataframe)\n",
    "\n",
    "print(training_features_dataframe_groupby_author.head())\n",
    "print(training_comments_groupby_author[:1])\n",
    "print(training_targets_groupby_author[:5])"
   ]
  },
  {
   "cell_type": "markdown",
   "id": "c577fa89-564c-469d-a51c-181d89db3070",
   "metadata": {},
   "source": [
    "# Generate Part-Of-Speech data"
   ]
  },
  {
   "cell_type": "code",
   "execution_count": 83,
   "id": "6bbd9b1a-cb93-4bc2-88a5-78b9aa02a1f8",
   "metadata": {},
   "outputs": [],
   "source": [
    "#####################\n",
    "# Utility Functions #\n",
    "#####################\n",
    "\n",
    "def get_pos_tag_count(text : str) -> dict[str, float]:\n",
    "    lower_case = text.lower()\n",
    "    tokens = nltk.word_tokenize(lower_case)\n",
    "    tags = nltk.pos_tag(tokens)\n",
    "    counts = Counter(tag for word, tag in tags)\n",
    "    total = sum(counts.values(), 0.0)\n",
    "    normalized_counts = {k: v / total for k, v in counts.items()}\n",
    "    return normalized_counts\n",
    "\n",
    "###################\n",
    "# Utility Classes #\n",
    "###################\n",
    "\n",
    "class PosTagVectorizer(BaseEstimator, TransformerMixin):\n",
    "    \"\"\"\n",
    "    Custom vectorizer.\n",
    "    Transforms a list of strings in a matrix of Part-Of-Speech counts.\n",
    "    Uses DictVectorizer by default.\n",
    "    \"\"\"\n",
    "    def __init__(self, vectorizer=None):\n",
    "        super().__init__()\n",
    "        if vectorizer:\n",
    "            self.vectorizer = vectorizer\n",
    "        else:\n",
    "            self.vectorizer = DictVectorizer()\n",
    "    \n",
    "    def fit(self, X, y=None):\n",
    "        self.vectorizer.fit(map(get_pos_tag_count, X))\n",
    "        return self\n",
    "    \n",
    "    def transform(self, X, y=None):\n",
    "        return self.vectorizer.transform(map(get_pos_tag_count, X))\n",
    "    \n",
    "    def get_feature_names_out(self):\n",
    "        return self.vectorizer.get_feature_names_out()"
   ]
  },
  {
   "cell_type": "code",
   "execution_count": 92,
   "id": "085ad9ae-9b93-4df1-98ed-be7358e152b7",
   "metadata": {},
   "outputs": [
    {
     "name": "stdout",
     "output_type": "stream",
     "text": [
      "  (0, 0)\t0.42857142857142855\n",
      "  (0, 1)\t0.42857142857142855\n",
      "  (0, 2)\t0.14285714285714285\n",
      "['.' 'NN' 'VBP']\n"
     ]
    }
   ],
   "source": [
    "#############\n",
    "# Execution #\n",
    "#############\n",
    "\n",
    "pos_vectorizer = PosTagVectorizer()\n",
    "print(pos_vectorizer.fit_transform([\"hi i am matteo!!!\"]))\n",
    "print(pos_vectorizer.get_feature_names_out())"
   ]
  },
  {
   "cell_type": "markdown",
   "id": "decf0c5f-4997-4cd3-b88c-2004f145c55b",
   "metadata": {},
   "source": [
    "# Generate subreddit data"
   ]
  },
  {
   "cell_type": "code",
   "execution_count": 93,
   "id": "a911a192-c070-43f3-869c-d19778b5ab87",
   "metadata": {},
   "outputs": [],
   "source": [
    "#####################\n",
    "# Utility Functions #\n",
    "#####################\n",
    "\n",
    "def get_subreddit_count(subreddits : str) -> dict[str, int]:\n",
    "    subs = subreddits.split()\n",
    "    counts = Counter(subreddit for subreddit in subs)\n",
    "    return counts\n",
    "\n",
    "###################\n",
    "# Utility Classes #\n",
    "###################\n",
    "\n",
    "class SubredditVectorizer(BaseEstimator, TransformerMixin):\n",
    "    \"\"\"\n",
    "    Custom vectorizer.\n",
    "    Transforms a list of strings of subreddits (separated by whitespace) in a matrix of Part-Of-Speech subreddit counts.\n",
    "    Uses DictVectorizer by default.\n",
    "    \"\"\"\n",
    "    def __init__(self, vectorizer=None):\n",
    "        super().__init__()\n",
    "        if vectorizer:\n",
    "            self.vectorizer = vectorizer\n",
    "        else:\n",
    "            self.vectorizer = DictVectorizer()\n",
    "    \n",
    "    def fit(self, X, y=None):\n",
    "        self.vectorizer.fit(map(get_subreddit_count, X))\n",
    "        return self\n",
    "    \n",
    "    def transform(self, X, y=None):\n",
    "        return self.vectorizer.transform(map(get_subreddit_count, X))\n",
    "    \n",
    "    def get_feature_names_out(self):\n",
    "        return self.vectorizer.get_feature_names_out()"
   ]
  },
  {
   "cell_type": "code",
   "execution_count": 97,
   "id": "0cb32166-386f-4f26-b321-2b6693ce3afc",
   "metadata": {},
   "outputs": [
    {
     "name": "stdout",
     "output_type": "stream",
     "text": [
      "  (0, 0)\t5.0\n",
      "  (0, 1)\t1.0\n",
      "  (0, 2)\t1.0\n",
      "  (1, 1)\t1.0\n",
      "  (1, 3)\t1.0\n",
      "['AskWomen' 'jailbreak' 'mildlyinteresting' 'motors']\n"
     ]
    }
   ],
   "source": [
    "#############\n",
    "# Execution #\n",
    "#############\n",
    "\n",
    "subreddit_vectorizer = SubredditVectorizer()\n",
    "print(subreddit_vectorizer.fit_transform([\"AskWomen AskWomen AskWomen AskWomen AskWomen mildlyinteresting jailbreak\", \"jailbreak motors\"]))\n",
    "print(subreddit_vectorizer.get_feature_names_out())"
   ]
  },
  {
   "cell_type": "markdown",
   "id": "e0ebcde3-de1b-436c-8707-c552cc5a5bd0",
   "metadata": {},
   "source": [
    "# Generate timestamp data"
   ]
  },
  {
   "cell_type": "code",
   "execution_count": 167,
   "id": "cdb18f16-adc9-477c-b6af-0ec78ebce642",
   "metadata": {},
   "outputs": [],
   "source": [
    "#####################\n",
    "# Utility Functions #\n",
    "#####################\n",
    "\n",
    "def to_date(epoch):\n",
    "    return datetime.utcfromtimestamp(epoch)\n",
    "\n",
    "def to_slug(epoch):\n",
    "    date = to_date(float(epoch))\n",
    "    ordinal = date.weekday()*24 + date.hour\n",
    "    weekday = calendar.day_name[date.weekday()]\n",
    "    hour = date.hour\n",
    "    return f'{ordinal:03}_{weekday.upper()}_{hour:02}'\n",
    "\n",
    "def get_comment_time_count(comment_times : str) -> dict[str, int]:\n",
    "    times = comment_times.split(',')\n",
    "    slugged_times = map(to_slug, times)\n",
    "    counts = Counter(time for time in slugged_times)\n",
    "    return counts\n",
    "    \n",
    "###################\n",
    "# Utility Classes #\n",
    "###################\n",
    "\n",
    "class EpochVectorizer(BaseEstimator, TransformerMixin):\n",
    "    \"\"\"\n",
    "    Custom vectorizer.\n",
    "    Transforms a list of strings of epoch times (assuming UTC, separated by commas) in a matrix of counts binned by weekday+hour (bins are sorted chronologically).\n",
    "    Uses DictVectorizer by default.\n",
    "    \"\"\"\n",
    "    def __init__(self, vectorizer=None):\n",
    "        super().__init__()\n",
    "        if vectorizer:\n",
    "            self.vectorizer = vectorizer\n",
    "        else:\n",
    "            self.vectorizer = DictVectorizer(sort=True)\n",
    "    \n",
    "    def fit(self, X, y=None):\n",
    "        self.vectorizer.fit(map(get_comment_time_count, X))\n",
    "        return self\n",
    "    \n",
    "    def transform(self, X, y=None):\n",
    "        return self.vectorizer.transform(map(get_comment_time_count, X))\n",
    "    \n",
    "    def get_feature_names_out(self):\n",
    "        return self.vectorizer.get_feature_names_out()"
   ]
  },
  {
   "cell_type": "code",
   "execution_count": null,
   "id": "477057ce-a345-4a9f-a05d-099f5762c3ee",
   "metadata": {},
   "outputs": [
    {
     "name": "stdout",
     "output_type": "stream",
     "text": [
      "  (0, 3)\t2.0\n",
      "  (0, 87)\t1.0\n",
      "  (0, 89)\t1.0\n",
      "  (0, 92)\t1.0\n",
      "  (0, 93)\t1.0\n",
      "  (1, 108)\t1.0\n",
      "  (2, 39)\t1.0\n",
      "  (2, 61)\t1.0\n",
      "  (2, 63)\t2.0\n",
      "  (2, 66)\t1.0\n",
      "  (2, 88)\t1.0\n",
      "  (2, 89)\t2.0\n",
      "  (2, 90)\t1.0\n",
      "  (2, 93)\t1.0\n",
      "  (3, 63)\t1.0\n",
      "  (3, 86)\t3.0\n",
      "  (3, 98)\t2.0\n",
      "  (3, 109)\t1.0\n",
      "  (3, 111)\t1.0\n",
      "  (3, 148)\t1.0\n",
      "  (4, 72)\t1.0\n",
      "  (4, 100)\t1.0\n",
      "  (5, 4)\t1.0\n",
      "  (5, 22)\t2.0\n",
      "  (5, 26)\t1.0\n",
      "  :\t:\n",
      "  (4996, 66)\t1.0\n",
      "  (4996, 67)\t2.0\n",
      "  (4996, 68)\t1.0\n",
      "  (4996, 70)\t4.0\n",
      "  (4996, 88)\t3.0\n",
      "  (4996, 89)\t3.0\n",
      "  (4996, 90)\t1.0\n",
      "  (4996, 91)\t1.0\n",
      "  (4996, 98)\t3.0\n",
      "  (4996, 103)\t1.0\n",
      "  (4996, 105)\t1.0\n",
      "  (4996, 111)\t2.0\n",
      "  (4996, 114)\t1.0\n",
      "  (4996, 117)\t4.0\n",
      "  (4996, 119)\t1.0\n",
      "  (4996, 121)\t1.0\n",
      "  (4996, 136)\t1.0\n",
      "  (4996, 164)\t1.0\n",
      "  (4997, 20)\t2.0\n",
      "  (4997, 23)\t2.0\n",
      "  (4998, 26)\t1.0\n",
      "  (4998, 27)\t1.0\n",
      "  (4998, 28)\t1.0\n",
      "  (4998, 119)\t1.0\n",
      "  (4999, 82)\t2.0\n",
      "['000_MONDAY_00' '001_MONDAY_01' '002_MONDAY_02' '003_MONDAY_03'\n",
      " '004_MONDAY_04' '005_MONDAY_05' '006_MONDAY_06' '007_MONDAY_07'\n",
      " '008_MONDAY_08' '009_MONDAY_09' '010_MONDAY_10' '011_MONDAY_11'\n",
      " '012_MONDAY_12' '013_MONDAY_13' '014_MONDAY_14' '015_MONDAY_15'\n",
      " '016_MONDAY_16' '017_MONDAY_17' '018_MONDAY_18' '019_MONDAY_19'\n",
      " '020_MONDAY_20' '021_MONDAY_21' '022_MONDAY_22' '023_MONDAY_23'\n",
      " '024_TUESDAY_00' '025_TUESDAY_01' '026_TUESDAY_02' '027_TUESDAY_03'\n",
      " '028_TUESDAY_04' '029_TUESDAY_05' '030_TUESDAY_06' '031_TUESDAY_07'\n",
      " '032_TUESDAY_08' '033_TUESDAY_09' '034_TUESDAY_10' '035_TUESDAY_11'\n",
      " '036_TUESDAY_12' '037_TUESDAY_13' '038_TUESDAY_14' '039_TUESDAY_15'\n",
      " '040_TUESDAY_16' '041_TUESDAY_17' '042_TUESDAY_18' '043_TUESDAY_19'\n",
      " '044_TUESDAY_20' '045_TUESDAY_21' '046_TUESDAY_22' '047_TUESDAY_23'\n",
      " '048_WEDNESDAY_00' '049_WEDNESDAY_01' '050_WEDNESDAY_02'\n",
      " '051_WEDNESDAY_03' '052_WEDNESDAY_04' '053_WEDNESDAY_05'\n",
      " '054_WEDNESDAY_06' '055_WEDNESDAY_07' '056_WEDNESDAY_08'\n",
      " '057_WEDNESDAY_09' '058_WEDNESDAY_10' '059_WEDNESDAY_11'\n",
      " '060_WEDNESDAY_12' '061_WEDNESDAY_13' '062_WEDNESDAY_14'\n",
      " '063_WEDNESDAY_15' '064_WEDNESDAY_16' '065_WEDNESDAY_17'\n",
      " '066_WEDNESDAY_18' '067_WEDNESDAY_19' '068_WEDNESDAY_20'\n",
      " '069_WEDNESDAY_21' '070_WEDNESDAY_22' '071_WEDNESDAY_23'\n",
      " '072_THURSDAY_00' '073_THURSDAY_01' '074_THURSDAY_02' '075_THURSDAY_03'\n",
      " '076_THURSDAY_04' '077_THURSDAY_05' '078_THURSDAY_06' '079_THURSDAY_07'\n",
      " '080_THURSDAY_08' '081_THURSDAY_09' '082_THURSDAY_10' '083_THURSDAY_11'\n",
      " '084_THURSDAY_12' '085_THURSDAY_13' '086_THURSDAY_14' '087_THURSDAY_15'\n",
      " '088_THURSDAY_16' '089_THURSDAY_17' '090_THURSDAY_18' '091_THURSDAY_19'\n",
      " '092_THURSDAY_20' '093_THURSDAY_21' '094_THURSDAY_22' '095_THURSDAY_23'\n",
      " '096_FRIDAY_00' '097_FRIDAY_01' '098_FRIDAY_02' '099_FRIDAY_03'\n",
      " '100_FRIDAY_04' '101_FRIDAY_05' '102_FRIDAY_06' '103_FRIDAY_07'\n",
      " '104_FRIDAY_08' '105_FRIDAY_09' '106_FRIDAY_10' '107_FRIDAY_11'\n",
      " '108_FRIDAY_12' '109_FRIDAY_13' '110_FRIDAY_14' '111_FRIDAY_15'\n",
      " '112_FRIDAY_16' '113_FRIDAY_17' '114_FRIDAY_18' '115_FRIDAY_19'\n",
      " '116_FRIDAY_20' '117_FRIDAY_21' '118_FRIDAY_22' '119_FRIDAY_23'\n",
      " '120_SATURDAY_00' '121_SATURDAY_01' '122_SATURDAY_02' '123_SATURDAY_03'\n",
      " '124_SATURDAY_04' '125_SATURDAY_05' '126_SATURDAY_06' '127_SATURDAY_07'\n",
      " '128_SATURDAY_08' '129_SATURDAY_09' '130_SATURDAY_10' '131_SATURDAY_11'\n",
      " '132_SATURDAY_12' '133_SATURDAY_13' '134_SATURDAY_14' '135_SATURDAY_15'\n",
      " '136_SATURDAY_16' '137_SATURDAY_17' '138_SATURDAY_18' '139_SATURDAY_19'\n",
      " '140_SATURDAY_20' '141_SATURDAY_21' '142_SATURDAY_22' '143_SATURDAY_23'\n",
      " '144_SUNDAY_00' '145_SUNDAY_01' '146_SUNDAY_02' '147_SUNDAY_03'\n",
      " '148_SUNDAY_04' '149_SUNDAY_05' '150_SUNDAY_06' '151_SUNDAY_07'\n",
      " '152_SUNDAY_08' '153_SUNDAY_09' '154_SUNDAY_10' '155_SUNDAY_11'\n",
      " '156_SUNDAY_12' '157_SUNDAY_13' '158_SUNDAY_14' '159_SUNDAY_15'\n",
      " '160_SUNDAY_16' '161_SUNDAY_17' '162_SUNDAY_18' '163_SUNDAY_19'\n",
      " '164_SUNDAY_20' '165_SUNDAY_21' '166_SUNDAY_22' '167_SUNDAY_23']\n",
      "3894    morbiusgreen\n",
      "3894    morbiusgreen\n",
      "3894    morbiusgreen\n",
      "898        Heelincal\n",
      "3894    morbiusgreen\n",
      "            ...     \n",
      "3894    morbiusgreen\n",
      "3894    morbiusgreen\n",
      "3894    morbiusgreen\n",
      "3894    morbiusgreen\n",
      "3894    morbiusgreen\n",
      "Name: author, Length: 168, dtype: object\n"
     ]
    }
   ],
   "source": [
    "#############\n",
    "# Execution #\n",
    "#############\n",
    "\n",
    "epoch_vectorizer = EpochVectorizer()\n",
    "print(epoch_vectorizer.fit_transform(training_features_dataframe_groupby_author.created_utc))\n",
    "print(training_set_dataframe_groupby_author.author[np.ndarray.argmax(epoch_vectorizer.transform(training_features_dataframe_groupby_author.created_utc).toarray().T, axis=1)])"
   ]
  },
  {
   "cell_type": "code",
   "execution_count": 234,
   "id": "4297b5f5-b45b-4779-8588-d1e02774a2bf",
   "metadata": {},
   "outputs": [
    {
     "data": {
      "image/png": "[encoded data removed]",
      "text/plain": [
       "<Figure size 640x480 with 1 Axes>"
      ]
     },
     "metadata": {},
     "output_type": "display_data"
    }
   ],
   "source": [
    "#########\n",
    "# Plots #\n",
    "#########\n",
    "colormap = np.array(['gray', 'g'])\n",
    "colors = colormap[training_targets_groupby_author]\n",
    "\n",
    "lines = plt.plot(np.array(range(168)).T,epoch_vectorizer.transform(training_features_dataframe_groupby_author.created_utc).toarray().T)\n",
    "ax = plt.gca()\n",
    "ax.set_ylim([0, 550])\n",
    "\n",
    "for idx, color in enumerate(colors):\n",
    "    lines[idx].set_color(color)\n",
    "plt.show()"
   ]
  },
  {
   "cell_type": "markdown",
   "id": "44bbd8ee-fa0c-4022-b504-6d829a5d1b75",
   "metadata": {},
   "source": [
    "# Generate username data"
   ]
  },
  {
   "cell_type": "code",
   "execution_count": 55,
   "id": "d574df66-b489-413d-8567-2b117f5b3c2f",
   "metadata": {},
   "outputs": [],
   "source": [
    "#####################\n",
    "# Utility Functions #\n",
    "#####################\n",
    "\n",
    "def get_character_count(username : str) -> dict[str, int]:\n",
    "    counts = Counter(char for char in username)\n",
    "    return counts\n",
    "    \n",
    "###################\n",
    "# Utility Classes #\n",
    "###################\n",
    "\n",
    "class UsernameVectorizer(BaseEstimator, TransformerMixin):\n",
    "    \"\"\"\n",
    "    Custom vectorizer.\n",
    "    Transforms a list of usernames in a matrix of character counts (case sensitive).\n",
    "    Uses DictVectorizer by default.\n",
    "    \"\"\"\n",
    "    def __init__(self, vectorizer=None):\n",
    "        super().__init__()\n",
    "        if vectorizer:\n",
    "            self.vectorizer = vectorizer\n",
    "        else:\n",
    "            self.vectorizer = CountVectorizer(analyzer='char', ngram_range=(1,1), lowercase=False)\n",
    "    \n",
    "    def fit(self, X, y=None):\n",
    "        self.vectorizer.fit(X)\n",
    "        return self\n",
    "    \n",
    "    def transform(self, X, y=None):\n",
    "        #transformed = self.vectorizer.transform(X)\n",
    "        #return sparse.hstack(transformed, transformed.sum(axis=1))[:,None]\n",
    "        return sparse.hstack([self.vectorizer.transform(X),self.vectorizer.transform(X).sum(axis = 1)])\n",
    "\n",
    "\n",
    "    \n",
    "    def get_feature_names_out(self):\n",
    "        return [*self.vectorizer.get_feature_names_out(), 'length']"
   ]
  },
  {
   "cell_type": "code",
   "execution_count": 56,
   "id": "ab124057-f478-41e8-8723-3af08546af41",
   "metadata": {},
   "outputs": [
    {
     "name": "stdout",
     "output_type": "stream",
     "text": [
      "  (0, 0)\t1\n",
      "  (0, 26)\t1\n",
      "  (0, 42)\t3\n",
      "  (0, 55)\t1\n",
      "  (0, 57)\t1\n",
      "  (1, 0)\t1\n",
      "  (1, 38)\t2\n",
      "  (1, 42)\t1\n",
      "  (1, 46)\t1\n",
      "  (1, 51)\t1\n",
      "  (1, 56)\t1\n",
      "  (1, 59)\t1\n",
      "  (2, 0)\t1\n",
      "  (2, 39)\t1\n",
      "  (2, 46)\t1\n",
      "  (2, 48)\t1\n",
      "  (2, 55)\t1\n",
      "  (2, 56)\t1\n",
      "  (2, 58)\t1\n",
      "  (3, 0)\t2\n",
      "  (3, 37)\t1\n",
      "  (3, 38)\t1\n",
      "  (3, 42)\t2\n",
      "  (3, 49)\t1\n",
      "  (3, 51)\t1\n",
      "  :\t:\n",
      "  (4974, 64)\t5\n",
      "  (4975, 64)\t14\n",
      "  (4976, 64)\t6\n",
      "  (4977, 64)\t15\n",
      "  (4978, 64)\t5\n",
      "  (4979, 64)\t6\n",
      "  (4980, 64)\t6\n",
      "  (4981, 64)\t3\n",
      "  (4982, 64)\t9\n",
      "  (4983, 64)\t6\n",
      "  (4984, 64)\t12\n",
      "  (4985, 64)\t4\n",
      "  (4986, 64)\t6\n",
      "  (4987, 64)\t5\n",
      "  (4988, 64)\t9\n",
      "  (4989, 64)\t12\n",
      "  (4990, 64)\t15\n",
      "  (4991, 64)\t4\n",
      "  (4992, 64)\t6\n",
      "  (4993, 64)\t7\n",
      "  (4994, 64)\t5\n",
      "  (4995, 64)\t5\n",
      "  (4996, 64)\t7\n",
      "  (4997, 64)\t4\n",
      "  (4998, 64)\t7\n",
      "['-', '0', '1', '2', '3', '4', '5', '6', '7', '8', '9', 'A', 'B', 'C', 'D', 'E', 'F', 'G', 'H', 'I', 'J', 'K', 'L', 'M', 'N', 'O', 'P', 'Q', 'R', 'S', 'T', 'U', 'V', 'W', 'X', 'Y', 'Z', '_', 'a', 'b', 'c', 'd', 'e', 'f', 'g', 'h', 'i', 'j', 'k', 'l', 'm', 'n', 'o', 'p', 'q', 'r', 's', 't', 'u', 'v', 'w', 'x', 'y', 'z', 'length']\n"
     ]
    }
   ],
   "source": [
    "#############\n",
    "# Execution #\n",
    "#############\n",
    "\n",
    "username_vectorizer = UsernameVectorizer()\n",
    "print(username_vectorizer.fit_transform(training_features_dataframe_groupby_author.author[1:5000]))\n",
    "print(username_vectorizer.get_feature_names_out())"
   ]
  },
  {
   "cell_type": "markdown",
   "id": "ab7dc5d2-7049-4135-8388-3abc2481ef57",
   "metadata": {},
   "source": [
    "# Generate CV-TFIDF comment data"
   ]
  },
  {
   "cell_type": "code",
   "execution_count": 98,
   "id": "d8c26334-6e21-4dec-a66a-785f3e3f8d05",
   "metadata": {},
   "outputs": [],
   "source": [
    "###################\n",
    "# Utility Classes #\n",
    "###################\n",
    "\n",
    "class TokenPatterns(enum.Enum):\n",
    "    \"\"\"\n",
    "    Exposes useful regex patterns for CountVectorizer and TfIdfVectorizer\n",
    "    \"\"\"\n",
    "    TKN_ALL_BUT_WHITESPACE = r'[^\\s]+'\n",
    "    \"\"\"Match all groups of chars separated by whitespaces\"\"\"\n",
    "\n",
    "    TKN_3_OR_MORE_ALPHA = '(?u)\\\\b[A-Za-z]{3,}'\n",
    "    \"\"\"Match whole words of alphabetical chars of three or more chars\"\"\"\n",
    "\n",
    "    TKN_1_OR_MORE_ALPHA = '(?u)\\\\b[A-Za-z]{1,}'\n",
    "    \"\"\"Match whole words of alphabetical chars of one or more chars\"\"\""
   ]
  },
  {
   "cell_type": "code",
   "execution_count": null,
   "id": "8630307f-6147-44f4-9c47-9c2ef414efb2",
   "metadata": {},
   "outputs": [],
   "source": []
  },
  {
   "cell_type": "markdown",
   "id": "8449bc1e-74fd-47b7-bb76-970f50c4097a",
   "metadata": {},
   "source": [
    "# Data Clean-up"
   ]
  },
  {
   "cell_type": "code",
   "execution_count": null,
   "id": "2b52bb49-4767-4c0b-93e6-b0377938ca6f",
   "metadata": {},
   "outputs": [],
   "source": []
  },
  {
   "cell_type": "markdown",
   "id": "22e84dec-804a-47d7-bafc-293f50102eb4",
   "metadata": {},
   "source": [
    "# Latent Semantic Analysis"
   ]
  },
  {
   "cell_type": "code",
   "execution_count": null,
   "id": "160d596b-8770-4b65-bc4b-96af31479014",
   "metadata": {},
   "outputs": [],
   "source": []
  },
  {
   "cell_type": "markdown",
   "id": "898e922f-e42a-4a6f-9ab7-0f7936c62692",
   "metadata": {},
   "source": [
    "# Fit with different estimators"
   ]
  },
  {
   "cell_type": "markdown",
   "id": "76a14dd2-1f47-457e-8b4e-5fe49468c858",
   "metadata": {},
   "source": [
    "## Pipeline"
   ]
  },
  {
   "cell_type": "code",
   "execution_count": null,
   "id": "757f0be2-3c62-45c7-8864-b6d1569580d1",
   "metadata": {},
   "outputs": [],
   "source": []
  },
  {
   "cell_type": "markdown",
   "id": "3308234c-922d-48f8-bed4-65c8cbbdfed5",
   "metadata": {},
   "source": [
    "## Grid Search and Cross-Validation"
   ]
  },
  {
   "cell_type": "code",
   "execution_count": null,
   "id": "4d0073b2-352d-4a19-bc4c-7753fe80b06c",
   "metadata": {},
   "outputs": [],
   "source": [
    "# grid search over:\n",
    "# min_df, max_df\n",
    "# feature selection: truncatedSVD \n",
    "# different models: GradientBoostingClassifier, HistogramBoostingClass, RandomForest, LogisticReg, SVM with RBF, Naive Bayes\n",
    "# max_abs_scaler, standardscaler, tf-idf normalization\n"
   ]
  },
  {
   "cell_type": "markdown",
   "id": "c92d4ce8-627f-407e-a6d4-c32a7ddd26df",
   "metadata": {},
   "source": [
    "# Ensemble classifier"
   ]
  },
  {
   "cell_type": "code",
   "execution_count": null,
   "id": "7bf3df5d-ee70-4e6f-b60f-6eb57df07b68",
   "metadata": {},
   "outputs": [],
   "source": []
  },
  {
   "cell_type": "markdown",
   "id": "a5b86653-28e5-42a9-acb3-9766cc8e7432",
   "metadata": {},
   "source": [
    "# Evaluate on Test Set"
   ]
  },
  {
   "cell_type": "code",
   "execution_count": null,
   "id": "c4c0e6bb-3af6-4c44-a862-dddbe78bdfb0",
   "metadata": {},
   "outputs": [],
   "source": []
  }
 ],
 "metadata": {
  "kernelspec": {
   "display_name": "Python 3 (ipykernel)",
   "language": "python",
   "name": "python3"
  },
  "language_info": {
   "codemirror_mode": {
    "name": "ipython",
    "version": 3
   },
   "file_extension": ".py",
   "mimetype": "text/x-python",
   "name": "python",
   "nbconvert_exporter": "python",
   "pygments_lexer": "ipython3",
   "version": "3.10.6"
  }
 },
 "nbformat": 4,
 "nbformat_minor": 5
}
