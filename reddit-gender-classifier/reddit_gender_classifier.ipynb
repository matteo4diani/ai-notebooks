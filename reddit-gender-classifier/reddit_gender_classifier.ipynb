{
  "cells": [
    {
      "cell_type": "markdown",
      "source": [
        "# Environment Setup"
      ],
      "metadata": {
        "id": "oZhQrsty9ggm"
      },
      "id": "oZhQrsty9ggm"
    },
    {
      "cell_type": "code",
      "source": [
        "!git clone https://github.com/matteo4diani/ai-notebooks.git"
      ],
      "metadata": {
        "colab": {
          "base_uri": "https://localhost:8080/"
        },
        "id": "jRUGwz-97ma4",
        "outputId": "ede5b57d-5f39-4457-8f57-0feae5781036"
      },
      "id": "jRUGwz-97ma4",
      "execution_count": 2,
      "outputs": [
        {
          "output_type": "stream",
          "name": "stdout",
          "text": [
            "Cloning into 'ai-notebooks'...\n",
            "remote: Enumerating objects: 161, done.\u001b[K\n",
            "remote: Counting objects: 100% (161/161), done.\u001b[K\n",
            "remote: Compressing objects: 100% (118/118), done.\u001b[K\n",
            "remote: Total 161 (delta 95), reused 97 (delta 39), pack-reused 0\u001b[K\n",
            "Receiving objects: 100% (161/161), 392.62 KiB | 2.18 MiB/s, done.\n",
            "Resolving deltas: 100% (95/95), done.\n"
          ]
        }
      ]
    },
    {
      "cell_type": "code",
      "source": [
        "!mv /content/ai-notebooks/reddit-gender-classifier/custom_loaders.py /content/\n",
        "!mv /content/ai-notebooks/reddit-gender-classifier/custom_preprocessing.py /content/\n",
        "!mv /content/ai-notebooks/reddit-gender-classifier/custom_transformers.py /content/\n",
        "!mv /content/ai-notebooks/reddit-gender-classifier/data /content/\n",
        "!mv /content/ai-notebooks/reddit-gender-classifier/output /content/\n",
        "!mv /content/ai-notebooks/reddit-gender-classifier/submissions /content/"
      ],
      "metadata": {
        "id": "woLj5PX48Y5Y"
      },
      "id": "woLj5PX48Y5Y",
      "execution_count": 3,
      "outputs": []
    },
    {
      "cell_type": "code",
      "source": [
        "!sudo apt-get update\n",
        "!sudo apt-get install dos2unix\n",
        "!dos2unix data/train_data.csv\n",
        "!dos2unix data/test_data.csv\n",
        "!dos2unix data/train_target.csv"
      ],
      "metadata": {
        "colab": {
          "base_uri": "https://localhost:8080/"
        },
        "id": "1-vs9OWcFLuB",
        "outputId": "93f89428-3ef0-4266-da03-9a992811326e"
      },
      "id": "1-vs9OWcFLuB",
      "execution_count": 11,
      "outputs": [
        {
          "output_type": "stream",
          "name": "stdout",
          "text": [
            "Get:1 https://cloud.r-project.org/bin/linux/ubuntu bionic-cran40/ InRelease [3,626 B]\n",
            "Ign:2 https://developer.download.nvidia.com/compute/machine-learning/repos/ubuntu1804/x86_64  InRelease\n",
            "Hit:3 https://developer.download.nvidia.com/compute/cuda/repos/ubuntu1804/x86_64  InRelease\n",
            "Hit:4 https://developer.download.nvidia.com/compute/machine-learning/repos/ubuntu1804/x86_64  Release\n",
            "Get:6 http://security.ubuntu.com/ubuntu bionic-security InRelease [88.7 kB]\n",
            "Hit:7 http://archive.ubuntu.com/ubuntu bionic InRelease\n",
            "Hit:8 http://ppa.launchpad.net/c2d4u.team/c2d4u4.0+/ubuntu bionic InRelease\n",
            "Get:9 http://archive.ubuntu.com/ubuntu bionic-updates InRelease [88.7 kB]\n",
            "Hit:10 http://ppa.launchpad.net/cran/libgit2/ubuntu bionic InRelease\n",
            "Get:11 http://archive.ubuntu.com/ubuntu bionic-backports InRelease [74.6 kB]\n",
            "Get:12 http://security.ubuntu.com/ubuntu bionic-security/main amd64 Packages [2,965 kB]\n",
            "Hit:13 http://ppa.launchpad.net/deadsnakes/ppa/ubuntu bionic InRelease\n",
            "Get:14 http://archive.ubuntu.com/ubuntu bionic-updates/main amd64 Packages [3,397 kB]\n",
            "Hit:15 http://ppa.launchpad.net/graphics-drivers/ppa/ubuntu bionic InRelease\n",
            "Get:16 http://security.ubuntu.com/ubuntu bionic-security/universe amd64 Packages [1,540 kB]\n",
            "Get:17 http://archive.ubuntu.com/ubuntu bionic-updates/universe amd64 Packages [2,318 kB]\n",
            "Fetched 10.5 MB in 3s (3,172 kB/s)\n",
            "Reading package lists... Done\n",
            "Reading package lists... Done\n",
            "Building dependency tree       \n",
            "Reading state information... Done\n",
            "The following package was automatically installed and is no longer required:\n",
            "  libnvidia-common-460\n",
            "Use 'sudo apt autoremove' to remove it.\n",
            "The following NEW packages will be installed:\n",
            "  dos2unix\n",
            "0 upgraded, 1 newly installed, 0 to remove and 23 not upgraded.\n",
            "Need to get 351 kB of archives.\n",
            "After this operation, 1,267 kB of additional disk space will be used.\n",
            "Get:1 http://archive.ubuntu.com/ubuntu bionic/universe amd64 dos2unix amd64 7.3.4-3 [351 kB]\n",
            "Fetched 351 kB in 1s (280 kB/s)\n",
            "debconf: unable to initialize frontend: Dialog\n",
            "debconf: (No usable dialog-like program is installed, so the dialog based frontend cannot be used. at /usr/share/perl5/Debconf/FrontEnd/Dialog.pm line 76, <> line 1.)\n",
            "debconf: falling back to frontend: Readline\n",
            "debconf: unable to initialize frontend: Readline\n",
            "debconf: (This frontend requires a controlling tty.)\n",
            "debconf: falling back to frontend: Teletype\n",
            "dpkg-preconfigure: unable to re-open stdin: \n",
            "Selecting previously unselected package dos2unix.\n",
            "(Reading database ... 155569 files and directories currently installed.)\n",
            "Preparing to unpack .../dos2unix_7.3.4-3_amd64.deb ...\n",
            "Unpacking dos2unix (7.3.4-3) ...\n",
            "Setting up dos2unix (7.3.4-3) ...\n",
            "Processing triggers for man-db (2.8.3-2ubuntu0.1) ...\n",
            "dos2unix: Binary symbol 0x10 found at line 89849\n",
            "dos2unix: Skipping binary file data/train_data.csv\n",
            "dos2unix: Binary symbol 0x03 found at line 81859\n",
            "dos2unix: Skipping binary file data/test_data.csv\n",
            "dos2unix: converting file data/train_target.csv to Unix format...\n"
          ]
        }
      ]
    },
    {
      "cell_type": "markdown",
      "id": "c4db9ddd-3487-4987-8cbc-8891bce8cf56",
      "metadata": {
        "id": "c4db9ddd-3487-4987-8cbc-8891bce8cf56"
      },
      "source": [
        "# Libraries"
      ]
    },
    {
      "cell_type": "code",
      "execution_count": 15,
      "id": "e8de08fe-de9c-4998-91a6-d101e5fe0445",
      "metadata": {
        "id": "e8de08fe-de9c-4998-91a6-d101e5fe0445"
      },
      "outputs": [],
      "source": [
        "%matplotlib inline\n",
        "from collections.abc import Iterable, Sequence\n",
        "from collections import Counter\n",
        "from collections import defaultdict\n",
        "import copy\n",
        "import enum\n",
        "import time\n",
        "from datetime import datetime\n",
        "import calendar\n",
        "import pandas as pd\n",
        "import numpy as np\n",
        "from matplotlib import pyplot as plt\n",
        "from scipy import sparse\n",
        "import re\n",
        "import nltk\n",
        "import xgboost\n",
        "\n",
        "import custom_transformers \n",
        "import custom_preprocessing\n",
        "import custom_loaders\n",
        "\n",
        "from sklearn.experimental import enable_halving_search_cv\n",
        "\n",
        "from sklearn.base import BaseEstimator, TransformerMixin\n",
        "from sklearn.decomposition import TruncatedSVD, LatentDirichletAllocation\n",
        "from sklearn.feature_extraction.text import CountVectorizer, TfidfTransformer, TfidfVectorizer\n",
        "from sklearn.feature_extraction import DictVectorizer\n",
        "from sklearn.feature_selection import SelectKBest\n",
        "from sklearn.kernel_approximation import Nystroem\n",
        "from sklearn.preprocessing import StandardScaler, MaxAbsScaler, MinMaxScaler\n",
        "from sklearn.svm import SVC\n",
        "from sklearn.linear_model import LogisticRegression\n",
        "from sklearn.ensemble import RandomForestClassifier, VotingClassifier, IsolationForest, GradientBoostingClassifier, HistGradientBoostingClassifier\n",
        "from sklearn.naive_bayes import MultinomialNB, GaussianNB\n",
        "from sklearn.neighbors import KNeighborsClassifier\n",
        "from sklearn.model_selection import HalvingGridSearchCV, GridSearchCV, StratifiedShuffleSplit, cross_val_score\n",
        "from sklearn.metrics import RocCurveDisplay\n",
        "from sklearn.pipeline import FeatureUnion\n",
        "\n",
        "from imblearn import FunctionSampler\n",
        "from imblearn.pipeline import make_pipeline, Pipeline\n",
        "\n",
        "import seaborn"
      ]
    },
    {
      "cell_type": "markdown",
      "id": "18210bed-9ba8-49da-b1a4-d6429cebbc0c",
      "metadata": {
        "id": "18210bed-9ba8-49da-b1a4-d6429cebbc0c"
      },
      "source": [
        "# Load data"
      ]
    },
    {
      "cell_type": "code",
      "execution_count": null,
      "id": "15ff3fe7-5e0d-4d60-ba2e-0faa56a4fc2c",
      "metadata": {
        "id": "15ff3fe7-5e0d-4d60-ba2e-0faa56a4fc2c"
      },
      "outputs": [],
      "source": [
        "#############\n",
        "# Execution #\n",
        "#############\n",
        "\n",
        "training_features_dataframe, training_targets_dataframe = custom_loaders.get_dataframes_from_csv(\"data/train_data.csv\",\n",
        "                                                                                                 \"data/train_target.csv\")\n",
        "training_comments : list[str] = list(training_features_dataframe.body)\n",
        "training_targets : list[int] = custom_loaders.get_targets_from_dataframe(training_features_dataframe,\n",
        "                                                                         training_targets_dataframe)\n",
        "\n",
        "print(training_comments[:3])\n",
        "print(training_targets[:3])"
      ]
    },
    {
      "cell_type": "markdown",
      "id": "8f4bfc8a-0b65-4c1f-8b93-449af6c03abc",
      "metadata": {
        "id": "8f4bfc8a-0b65-4c1f-8b93-449af6c03abc"
      },
      "source": [
        "# Group by author"
      ]
    },
    {
      "cell_type": "code",
      "execution_count": null,
      "id": "36df8edb-e200-4b2b-8b4f-58018040081c",
      "metadata": {
        "id": "36df8edb-e200-4b2b-8b4f-58018040081c",
        "outputId": "33216329-9887-4ab3-c072-41908543d5b0"
      },
      "outputs": [
        {
          "name": "stdout",
          "output_type": "stream",
          "text": [
            "           author                                          subreddit  \\\n",
            "0          -Jared   AskReddit tall pics StarWars AskReddit AskReddit   \n",
            "1         -Peeter                                             gainit   \n",
            "2        -evasian  MouseReview MechanicalKeyboards jailbreak jail...   \n",
            "3         -rubiks  AskWomen AskWomen AskWomen AskWomen AskWomen A...   \n",
            "4  -true_neutral-                    mildlyinteresting todayilearned   \n",
            "\n",
            "                                                body  \\\n",
            "0  Neil Diamond - Sweet Caroline +1 on the chirop...   \n",
            "1                         Just read the FAQ, really.   \n",
            "2  I just received my Deathadder Black Edition ye...   \n",
            "3  AlunaGeorge - Best Be Believing\\nArctic Monkey...   \n",
            "4  &gt; Urban Ears Metis\\n\\nYMMV. I have had thre...   \n",
            "\n",
            "                                         created_utc  \n",
            "0  1390189315.0,1390189970.0,1390492589.0,1390496...  \n",
            "1                                       1389962703.0  \n",
            "2  1388678755.0,1388688144.0,1389891805.0,1389892...  \n",
            "3  1389194620.0,1389500510.0,1389881305.0,1389882...  \n",
            "4                          1391042356.0,1391143961.0  \n",
            "['Neil Diamond - Sweet Caroline +1 on the chiropractor. I went religiously from ages 14 - 19 due to extreme lower back pain from running track / cross country. It\\'s important to remember it\\'s a somewhat slow process, but worth the results. \\n\\nOh, and don\\'t worry, they aren\\'t cracking your back - its just an \"adjustment\"  Looks like the pattern on the envelope that middle school photos came in.  If you had a bad motivator would you want to spell that out every time? And nothing beats a hangover quite like bacon (or better yet, Taylor ham), eggs over easy, toast, and hash browns! No, I think YOU mean Taylor Ham... Really, whatever you call it doesn\\'t matter, its damn delicious. ']\n",
            "[0, 0, 0, 1, 0]\n"
          ]
        }
      ],
      "source": [
        "#############\n",
        "# Execution #\n",
        "#############\n",
        "\n",
        "training_features_dataframe_groupby_author = custom_loaders.group_dataframe_by_author(training_features_dataframe)\n",
        "\n",
        "training_comments_groupby_author : list[str] = list(training_features_dataframe_groupby_author.body)\n",
        "training_targets_groupby_author : list[int] = custom_loaders.get_targets_from_dataframe(training_features_dataframe_groupby_author,\n",
        "                                                                                        training_targets_dataframe)\n",
        "\n",
        "print(training_features_dataframe_groupby_author.head())\n",
        "print(training_comments_groupby_author[:1])\n",
        "print(training_targets_groupby_author[:5])"
      ]
    },
    {
      "cell_type": "markdown",
      "id": "c577fa89-564c-469d-a51c-181d89db3070",
      "metadata": {
        "id": "c577fa89-564c-469d-a51c-181d89db3070"
      },
      "source": [
        "# Generate Part-Of-Speech data\n",
        "\n",
        "We implement a custom vectorizer for Part-Of-Speech data.  \n",
        "A survey of relevant literature points to personal pronouns, indefinite articles and other Parts-of-Speech as fairly accurate predictors of the author's gender."
      ]
    },
    {
      "cell_type": "code",
      "execution_count": null,
      "id": "085ad9ae-9b93-4df1-98ed-be7358e152b7",
      "metadata": {
        "id": "085ad9ae-9b93-4df1-98ed-be7358e152b7",
        "outputId": "34551629-736c-4d72-c9c5-4e8d2b11fbee"
      },
      "outputs": [
        {
          "name": "stdout",
          "output_type": "stream",
          "text": [
            "  (0, 2)\t2.0\n",
            "  (0, 11)\t1.0\n",
            "  (0, 28)\t1.0\n",
            "  (0, 32)\t1.0\n",
            "  (0, 36)\t1.0\n",
            "  (0, 40)\t1.0\n",
            "  (1, 1)\t4.0\n",
            "  (1, 2)\t39.0\n",
            "  (1, 3)\t3.0\n",
            "  (1, 4)\t20.0\n",
            "  (1, 5)\t83.0\n",
            "  (1, 6)\t17.0\n",
            "  (1, 7)\t2.0\n",
            "  (1, 11)\t10.0\n",
            "  (1, 12)\t2.0\n",
            "  (1, 13)\t11.0\n",
            "  (1, 14)\t8.0\n",
            "  (1, 15)\t7.0\n",
            "  (1, 17)\t14.0\n",
            "  (1, 18)\t7.0\n",
            "  (1, 19)\t15.0\n",
            "  (1, 22)\t1.0\n",
            "  (1, 23)\t2.0\n",
            "  (1, 24)\t40.0\n",
            "  (1, 25)\t21.0\n",
            "  :\t:\n",
            "  (8, 22)\t28.0\n",
            "  (8, 24)\t85.0\n",
            "  (8, 25)\t181.0\n",
            "  (8, 26)\t1.0\n",
            "  (8, 27)\t47.0\n",
            "  (8, 28)\t115.0\n",
            "  (8, 29)\t188.0\n",
            "  (8, 30)\t44.0\n",
            "  (8, 31)\t16.0\n",
            "  (8, 32)\t166.0\n",
            "  (8, 33)\t7.0\n",
            "  (8, 34)\t7.0\n",
            "  (8, 35)\t4.0\n",
            "  (8, 36)\t207.0\n",
            "  (8, 37)\t347.0\n",
            "  (8, 38)\t7.0\n",
            "  (8, 39)\t1.0\n",
            "  (8, 40)\t55.0\n",
            "  (8, 41)\t58.0\n",
            "  (8, 42)\t1.0\n",
            "  (8, 43)\t69.0\n",
            "  (8, 44)\t9.0\n",
            "  (8, 45)\t5.0\n",
            "  (8, 46)\t18.0\n",
            "  (8, 47)\t115.0\n",
            "['74' '99' '164681854541413346' '272890857012483650' '783433942507015291'\n",
            " '1292078113972184607' '1534113631682161808' '1895579588947004264'\n",
            " '1982173196287093141' '2294095510757837556' '2465883113906300949'\n",
            " '2593208677638477497' '3252815442139690129' '3822385049556375858'\n",
            " '4062917326063685704' '4808651922106831370' '4969857429396651903'\n",
            " '5595707737748328492' '6860118812490040284' '6893682062797376370'\n",
            " '7477624496606277342' '8214596291009089021' '8427216679587749980'\n",
            " '8812103347613839895' '9188597074677201817' '10554686591937588953'\n",
            " '11233576250605462493' '11532473245541075862' '12646065887601541794'\n",
            " '13656873538139661788' '13927759927860985106' '14143520107006108953'\n",
            " '14200088355797579614' '14753207560692742245' '14872845191859177490'\n",
            " '14968597813295776895' '15267657372422890137' '15308085513773655218'\n",
            " '15361090031084224697' '15401913388386482565' '15794550382381185553'\n",
            " '16235386156175103506' '16530679158541427010' '17109001835818727656'\n",
            " '17111077179131903759' '17202369883303991778' '17524233984504158541'\n",
            " '17571114184892886314']\n"
          ]
        }
      ],
      "source": [
        "#############\n",
        "# Execution #\n",
        "#############\n",
        "\n",
        "pos_vectorizer = custom_transformers.PosTagVectorizer()\n",
        "print(pos_vectorizer.fit_transform(training_features_dataframe_groupby_author[1:10]))\n",
        "print(pos_vectorizer.get_feature_names_out())"
      ]
    },
    {
      "cell_type": "markdown",
      "id": "decf0c5f-4997-4cd3-b88c-2004f145c55b",
      "metadata": {
        "id": "decf0c5f-4997-4cd3-b88c-2004f145c55b"
      },
      "source": [
        "# Generate subreddit data"
      ]
    },
    {
      "cell_type": "code",
      "execution_count": null,
      "id": "0cb32166-386f-4f26-b321-2b6693ce3afc",
      "metadata": {
        "id": "0cb32166-386f-4f26-b321-2b6693ce3afc",
        "outputId": "700fedfc-0a9e-4bce-9eb6-92ede3c7aeb0"
      },
      "outputs": [
        {
          "name": "stdout",
          "output_type": "stream",
          "text": [
            "  (0, 139)\t3.0\n",
            "  (0, 1313)\t1.0\n",
            "  (0, 2844)\t1.0\n",
            "  (0, 3220)\t1.0\n",
            "  (1, 2243)\t1.0\n",
            "  (2, 139)\t1.0\n",
            "  (2, 916)\t1.0\n",
            "  (2, 958)\t1.0\n",
            "  (2, 2446)\t7.0\n",
            "  (3, 132)\t1.0\n",
            "  (3, 148)\t8.0\n",
            "  (4, 2631)\t1.0\n",
            "  (4, 3274)\t1.0\n",
            "  (5, 2407)\t3.0\n",
            "  (5, 3270)\t1.0\n",
            "  (6, 2683)\t1.0\n",
            "  (7, 139)\t1.0\n",
            "  (8, 728)\t1.0\n",
            "  (8, 1745)\t2.0\n",
            "  (8, 3304)\t2.0\n",
            "  (9, 52)\t1.0\n",
            "  (9, 139)\t12.0\n",
            "  (9, 193)\t1.0\n",
            "  (9, 728)\t2.0\n",
            "  (9, 1521)\t5.0\n",
            "  :\t:\n",
            "  (4992, 1468)\t3.0\n",
            "  (4992, 1473)\t5.0\n",
            "  (4992, 2724)\t5.0\n",
            "  (4992, 3161)\t6.0\n",
            "  (4992, 3292)\t1.0\n",
            "  (4992, 3342)\t4.0\n",
            "  (4993, 1193)\t2.0\n",
            "  (4993, 1867)\t1.0\n",
            "  (4994, 2506)\t3.0\n",
            "  (4995, 1054)\t1.0\n",
            "  (4996, 52)\t4.0\n",
            "  (4996, 345)\t1.0\n",
            "  (4996, 904)\t4.0\n",
            "  (4996, 1004)\t20.0\n",
            "  (4996, 1420)\t1.0\n",
            "  (4996, 1697)\t1.0\n",
            "  (4996, 2171)\t2.0\n",
            "  (4996, 2204)\t2.0\n",
            "  (4996, 2284)\t1.0\n",
            "  (4996, 2567)\t1.0\n",
            "  (4996, 2844)\t1.0\n",
            "  (4997, 3368)\t4.0\n",
            "  (4998, 1114)\t3.0\n",
            "  (4998, 2801)\t1.0\n",
            "  (4999, 139)\t2.0\n",
            "['1022' '1200isplenty' '1911' ... 'zen' 'zombies' 'zyzz']\n"
          ]
        }
      ],
      "source": [
        "#############\n",
        "# Execution #\n",
        "#############\n",
        "\n",
        "subreddit_vectorizer = custom_transformers.SubredditVectorizer()\n",
        "print(subreddit_vectorizer.fit_transform(training_features_dataframe_groupby_author))\n",
        "print(subreddit_vectorizer.get_feature_names_out())"
      ]
    },
    {
      "cell_type": "markdown",
      "id": "e0ebcde3-de1b-436c-8707-c552cc5a5bd0",
      "metadata": {
        "id": "e0ebcde3-de1b-436c-8707-c552cc5a5bd0"
      },
      "source": [
        "# Generate timestamp data\n",
        "\n",
        "We create a custom timestamp vectorizer that turns the list of epoch times in the `created_utc` feature (grouped by author) in a matrix of counts binned by weekday and hour.  \n",
        "By plotting user activity we notice significant outliers: the honorable mention goes to the user ___u/morbiusgreen___, still active on various subs and posting up to 500 comments in one hour.  \n",
        "We will later implement an outlier removal routine to get rid of the graphomaniacs (and other outliers) tainting our dataset."
      ]
    },
    {
      "cell_type": "code",
      "execution_count": null,
      "id": "477057ce-a345-4a9f-a05d-099f5762c3ee",
      "metadata": {
        "id": "477057ce-a345-4a9f-a05d-099f5762c3ee",
        "outputId": "169bc7a6-8b04-4379-bca0-fc9fb483233d"
      },
      "outputs": [
        {
          "name": "stdout",
          "output_type": "stream",
          "text": [
            "  (0, 3)\t2.0\n",
            "  (0, 87)\t1.0\n",
            "  (0, 89)\t1.0\n",
            "  (0, 92)\t1.0\n",
            "  (0, 93)\t1.0\n",
            "  (1, 108)\t1.0\n",
            "  (2, 39)\t1.0\n",
            "  (2, 61)\t1.0\n",
            "  (2, 63)\t2.0\n",
            "  (2, 66)\t1.0\n",
            "  (2, 88)\t1.0\n",
            "  (2, 89)\t2.0\n",
            "  (2, 90)\t1.0\n",
            "  (2, 93)\t1.0\n",
            "  (3, 63)\t1.0\n",
            "  (3, 86)\t3.0\n",
            "  (3, 98)\t2.0\n",
            "  (3, 109)\t1.0\n",
            "  (3, 111)\t1.0\n",
            "  (3, 148)\t1.0\n",
            "  (4, 72)\t1.0\n",
            "  (4, 100)\t1.0\n",
            "  (5, 4)\t1.0\n",
            "  (5, 22)\t2.0\n",
            "  (5, 26)\t1.0\n",
            "  :\t:\n",
            "  (4996, 66)\t1.0\n",
            "  (4996, 67)\t2.0\n",
            "  (4996, 68)\t1.0\n",
            "  (4996, 70)\t4.0\n",
            "  (4996, 88)\t3.0\n",
            "  (4996, 89)\t3.0\n",
            "  (4996, 90)\t1.0\n",
            "  (4996, 91)\t1.0\n",
            "  (4996, 98)\t3.0\n",
            "  (4996, 103)\t1.0\n",
            "  (4996, 105)\t1.0\n",
            "  (4996, 111)\t2.0\n",
            "  (4996, 114)\t1.0\n",
            "  (4996, 117)\t4.0\n",
            "  (4996, 119)\t1.0\n",
            "  (4996, 121)\t1.0\n",
            "  (4996, 136)\t1.0\n",
            "  (4996, 164)\t1.0\n",
            "  (4997, 20)\t2.0\n",
            "  (4997, 23)\t2.0\n",
            "  (4998, 26)\t1.0\n",
            "  (4998, 27)\t1.0\n",
            "  (4998, 28)\t1.0\n",
            "  (4998, 119)\t1.0\n",
            "  (4999, 82)\t2.0\n",
            "['000_MONDAY_00' '001_MONDAY_01' '002_MONDAY_02' '003_MONDAY_03'\n",
            " '004_MONDAY_04' '005_MONDAY_05' '006_MONDAY_06' '007_MONDAY_07'\n",
            " '008_MONDAY_08' '009_MONDAY_09' '010_MONDAY_10' '011_MONDAY_11'\n",
            " '012_MONDAY_12' '013_MONDAY_13' '014_MONDAY_14' '015_MONDAY_15'\n",
            " '016_MONDAY_16' '017_MONDAY_17' '018_MONDAY_18' '019_MONDAY_19'\n",
            " '020_MONDAY_20' '021_MONDAY_21' '022_MONDAY_22' '023_MONDAY_23'\n",
            " '024_TUESDAY_00' '025_TUESDAY_01' '026_TUESDAY_02' '027_TUESDAY_03'\n",
            " '028_TUESDAY_04' '029_TUESDAY_05' '030_TUESDAY_06' '031_TUESDAY_07'\n",
            " '032_TUESDAY_08' '033_TUESDAY_09' '034_TUESDAY_10' '035_TUESDAY_11'\n",
            " '036_TUESDAY_12' '037_TUESDAY_13' '038_TUESDAY_14' '039_TUESDAY_15'\n",
            " '040_TUESDAY_16' '041_TUESDAY_17' '042_TUESDAY_18' '043_TUESDAY_19'\n",
            " '044_TUESDAY_20' '045_TUESDAY_21' '046_TUESDAY_22' '047_TUESDAY_23'\n",
            " '048_WEDNESDAY_00' '049_WEDNESDAY_01' '050_WEDNESDAY_02'\n",
            " '051_WEDNESDAY_03' '052_WEDNESDAY_04' '053_WEDNESDAY_05'\n",
            " '054_WEDNESDAY_06' '055_WEDNESDAY_07' '056_WEDNESDAY_08'\n",
            " '057_WEDNESDAY_09' '058_WEDNESDAY_10' '059_WEDNESDAY_11'\n",
            " '060_WEDNESDAY_12' '061_WEDNESDAY_13' '062_WEDNESDAY_14'\n",
            " '063_WEDNESDAY_15' '064_WEDNESDAY_16' '065_WEDNESDAY_17'\n",
            " '066_WEDNESDAY_18' '067_WEDNESDAY_19' '068_WEDNESDAY_20'\n",
            " '069_WEDNESDAY_21' '070_WEDNESDAY_22' '071_WEDNESDAY_23'\n",
            " '072_THURSDAY_00' '073_THURSDAY_01' '074_THURSDAY_02' '075_THURSDAY_03'\n",
            " '076_THURSDAY_04' '077_THURSDAY_05' '078_THURSDAY_06' '079_THURSDAY_07'\n",
            " '080_THURSDAY_08' '081_THURSDAY_09' '082_THURSDAY_10' '083_THURSDAY_11'\n",
            " '084_THURSDAY_12' '085_THURSDAY_13' '086_THURSDAY_14' '087_THURSDAY_15'\n",
            " '088_THURSDAY_16' '089_THURSDAY_17' '090_THURSDAY_18' '091_THURSDAY_19'\n",
            " '092_THURSDAY_20' '093_THURSDAY_21' '094_THURSDAY_22' '095_THURSDAY_23'\n",
            " '096_FRIDAY_00' '097_FRIDAY_01' '098_FRIDAY_02' '099_FRIDAY_03'\n",
            " '100_FRIDAY_04' '101_FRIDAY_05' '102_FRIDAY_06' '103_FRIDAY_07'\n",
            " '104_FRIDAY_08' '105_FRIDAY_09' '106_FRIDAY_10' '107_FRIDAY_11'\n",
            " '108_FRIDAY_12' '109_FRIDAY_13' '110_FRIDAY_14' '111_FRIDAY_15'\n",
            " '112_FRIDAY_16' '113_FRIDAY_17' '114_FRIDAY_18' '115_FRIDAY_19'\n",
            " '116_FRIDAY_20' '117_FRIDAY_21' '118_FRIDAY_22' '119_FRIDAY_23'\n",
            " '120_SATURDAY_00' '121_SATURDAY_01' '122_SATURDAY_02' '123_SATURDAY_03'\n",
            " '124_SATURDAY_04' '125_SATURDAY_05' '126_SATURDAY_06' '127_SATURDAY_07'\n",
            " '128_SATURDAY_08' '129_SATURDAY_09' '130_SATURDAY_10' '131_SATURDAY_11'\n",
            " '132_SATURDAY_12' '133_SATURDAY_13' '134_SATURDAY_14' '135_SATURDAY_15'\n",
            " '136_SATURDAY_16' '137_SATURDAY_17' '138_SATURDAY_18' '139_SATURDAY_19'\n",
            " '140_SATURDAY_20' '141_SATURDAY_21' '142_SATURDAY_22' '143_SATURDAY_23'\n",
            " '144_SUNDAY_00' '145_SUNDAY_01' '146_SUNDAY_02' '147_SUNDAY_03'\n",
            " '148_SUNDAY_04' '149_SUNDAY_05' '150_SUNDAY_06' '151_SUNDAY_07'\n",
            " '152_SUNDAY_08' '153_SUNDAY_09' '154_SUNDAY_10' '155_SUNDAY_11'\n",
            " '156_SUNDAY_12' '157_SUNDAY_13' '158_SUNDAY_14' '159_SUNDAY_15'\n",
            " '160_SUNDAY_16' '161_SUNDAY_17' '162_SUNDAY_18' '163_SUNDAY_19'\n",
            " '164_SUNDAY_20' '165_SUNDAY_21' '166_SUNDAY_22' '167_SUNDAY_23']\n"
          ]
        }
      ],
      "source": [
        "#############\n",
        "# Execution #\n",
        "#############\n",
        "\n",
        "epoch_vectorizer = custom_transformers.EpochVectorizer()\n",
        "print(epoch_vectorizer.fit_transform(training_features_dataframe_groupby_author))\n",
        "print(epoch_vectorizer.get_feature_names_out())"
      ]
    },
    {
      "cell_type": "code",
      "execution_count": null,
      "id": "4297b5f5-b45b-4779-8588-d1e02774a2bf",
      "metadata": {
        "id": "4297b5f5-b45b-4779-8588-d1e02774a2bf",
        "outputId": "e317a1d1-92be-460a-fad7-02573e70e735"
      },
      "outputs": [
        {
          "data": {
            "image/png": "[encoded data removed]",
            "text/plain": [
              "<Figure size 640x480 with 1 Axes>"
            ]
          },
          "metadata": {},
          "output_type": "display_data"
        }
      ],
      "source": [
        "#########\n",
        "# Plots #\n",
        "#########\n",
        "colormap = np.array(['gray', 'g'])\n",
        "colors = colormap[training_targets_groupby_author]\n",
        "\n",
        "lines = plt.plot(np.array(range(168)).T,epoch_vectorizer.transform(training_features_dataframe_groupby_author).toarray().T)\n",
        "ax = plt.gca()\n",
        "ax.set_ylim([0, 550])\n",
        "\n",
        "for idx, color in enumerate(colors):\n",
        "    lines[idx].set_color(color)\n",
        "plt.show()"
      ]
    },
    {
      "cell_type": "markdown",
      "id": "44bbd8ee-fa0c-4022-b504-6d829a5d1b75",
      "metadata": {
        "id": "44bbd8ee-fa0c-4022-b504-6d829a5d1b75"
      },
      "source": [
        "# Generate username data\n",
        "\n",
        "We create a custom username vectorizer, counting single-character occurrence and total length of the username."
      ]
    },
    {
      "cell_type": "code",
      "execution_count": null,
      "id": "ab124057-f478-41e8-8723-3af08546af41",
      "metadata": {
        "id": "ab124057-f478-41e8-8723-3af08546af41",
        "outputId": "ec4bdfc7-19fb-4e89-da8e-2ea361e26023"
      },
      "outputs": [
        {
          "name": "stdout",
          "output_type": "stream",
          "text": [
            "[[1 0 0 ... 0 0 6]\n",
            " [1 0 0 ... 0 0 7]\n",
            " [1 0 0 ... 0 0 8]\n",
            " ...\n",
            " [0 0 0 ... 0 2 7]\n",
            " [0 0 0 ... 0 2 4]\n",
            " [0 0 0 ... 0 2 7]]\n",
            "['-', '0', '1', '2', '3', '4', '5', '6', '7', '8', '9', '_', 'a', 'b', 'c', 'd', 'e', 'f', 'g', 'h', 'i', 'j', 'k', 'l', 'm', 'n', 'o', 'p', 'q', 'r', 's', 't', 'u', 'v', 'w', 'x', 'y', 'z', 'length']\n"
          ]
        }
      ],
      "source": [
        "#############\n",
        "# Execution #\n",
        "#############\n",
        "\n",
        "username_vectorizer = custom_transformers.UsernameVectorizer()\n",
        "print(username_vectorizer.fit_transform(training_features_dataframe_groupby_author).A)\n",
        "print(username_vectorizer.get_feature_names_out())\n"
      ]
    },
    {
      "cell_type": "markdown",
      "id": "ab7dc5d2-7049-4135-8388-3abc2481ef57",
      "metadata": {
        "id": "ab7dc5d2-7049-4135-8388-3abc2481ef57"
      },
      "source": [
        "# Generate TF-IDF comment data\n",
        "\n",
        "We wrap the built-in `TfIdfVectorizer` in a `BodyVectorizer` class (see `custom_transformers`). We enrich the built-in vectorizer with lemmatization via `nltk.stem.WordNetLemmatizer`."
      ]
    },
    {
      "cell_type": "markdown",
      "id": "8449bc1e-74fd-47b7-bb76-970f50c4097a",
      "metadata": {
        "tags": [],
        "id": "8449bc1e-74fd-47b7-bb76-970f50c4097a"
      },
      "source": [
        "# Data Clean-up\n",
        "\n",
        "## Outlier Rejection\n",
        "\n",
        "We reject outliers based on anomalous comments/hour. We leverage the `sklearn.ensemble.IsolationForest` classifier, which is a tree-based anomaly detection algorithm.  \n",
        "Even if it's feasible to manipulate both features and targets in-pipeline via `imblearn.pipeline.Pipeline` after some experiments we decide integrating outlier detection in the pipeline is not necessary.\n",
        "\n",
        "## Textual Data Cleaning\n",
        "\n",
        "We process letters-only words of three or more characters by lemmatizing them via `nltk.stem.WordNetLemmatizer` embedded in a custom tokenizer passed to `TfidfVectorizer` (see `custom_transformers.tokenize`). We don't use the built-in english stop-words as they contain some Parts-Of-Speech that can be useful for author characterization."
      ]
    },
    {
      "cell_type": "code",
      "execution_count": null,
      "id": "c96b85cb-caad-454f-a302-f66042221074",
      "metadata": {
        "id": "c96b85cb-caad-454f-a302-f66042221074",
        "outputId": "d61ad640-64d4-4836-bc64-537a248f7857"
      },
      "outputs": [
        {
          "data": {
            "image/png": "[encoded data removed]",
            "text/plain": [
              "<Figure size 640x480 with 1 Axes>"
            ]
          },
          "metadata": {},
          "output_type": "display_data"
        },
        {
          "name": "stdout",
          "output_type": "stream",
          "text": [
            "# of valid samples: 4751\n"
          ]
        }
      ],
      "source": [
        "#########\n",
        "# Plots #\n",
        "#########\n",
        "epoch_vectorizer = custom_transformers.EpochVectorizer()\n",
        "\n",
        "X_outliers = epoch_vectorizer.fit_transform(training_features_dataframe_groupby_author)\n",
        "y_outliers = training_targets_groupby_author\n",
        "\n",
        "reject_sampler = FunctionSampler(func=custom_preprocessing.outlier_rejection)\n",
        "X_inliers, y_inliers = reject_sampler.fit_resample(X_outliers, y_outliers)\n",
        "\n",
        "colormap = np.array(['gray', 'g'])\n",
        "colors = colormap[y_inliers]\n",
        "\n",
        "lines = plt.plot(np.array(range(168)).T,X_inliers.toarray().T)\n",
        "ax = plt.gca()\n",
        "ax.set_ylim([0, 50])\n",
        "\n",
        "for idx, color in enumerate(colors):\n",
        "    lines[idx].set_color(color)\n",
        "plt.show()\n",
        "print(f'# of valid samples: {len(y_inliers)}')"
      ]
    },
    {
      "cell_type": "markdown",
      "id": "22e84dec-804a-47d7-bafc-293f50102eb4",
      "metadata": {
        "id": "22e84dec-804a-47d7-bafc-293f50102eb4"
      },
      "source": [
        "# Latent Semantic Analysis\n",
        "\n",
        "We implement LSA in our pipeline using the built-ins `TruncatedSVD` and `LatentDirichletAllocation`."
      ]
    },
    {
      "cell_type": "markdown",
      "id": "898e922f-e42a-4a6f-9ab7-0f7936c62692",
      "metadata": {
        "toc-hr-collapsed": true,
        "id": "898e922f-e42a-4a6f-9ab7-0f7936c62692"
      },
      "source": [
        "# Training Pipeline\n",
        "\n",
        "We compose a pipeline that combines all our vectorizers via `FeatureUnion`, scales the data via `MaxAbsScaler`, performs latent semantic analysis via `TruncatedSVD`, and fits it via different estimators `LogisticRegression` and `SVC`"
      ]
    },
    {
      "cell_type": "code",
      "execution_count": 20,
      "id": "84b719da-2c99-47e6-b31f-2fd8082c3136",
      "metadata": {
        "id": "84b719da-2c99-47e6-b31f-2fd8082c3136"
      },
      "outputs": [],
      "source": [
        "#####################\n",
        "# Training Pipeline #\n",
        "#####################\n",
        "def get_training_pipeline():\n",
        "    features = FeatureUnion([(\"vct\", custom_transformers.BodyVectorizer(ngram_range=(1,1), max_features=1000)),\n",
        "                             (\"usr\", custom_transformers.UsernameVectorizer(ngram_range=(1,1))),\n",
        "                             (\"sub\", custom_transformers.SubredditVectorizer())])\n",
        "    \n",
        "    features_dict = dict([(\"vct\", custom_transformers.BodyVectorizer(ngram_range=(1,1), max_features=1000)),\n",
        "                          (\"pos\", custom_transformers.PosTagVectorizer()),\n",
        "                          (\"utc\", custom_transformers.EpochVectorizer()),\n",
        "                          (\"usr\", custom_transformers.UsernameVectorizer(ngram_range=(1,1))),\n",
        "                          (\"sub\", custom_transformers.SubredditVectorizer())])\n",
        "                                  \n",
        "\n",
        "\n",
        "    training_pipeline = Pipeline([(\"features\", features),\n",
        "                                  (\"outliers\", FunctionSampler(func=custom_preprocessing.outlier_rejection)),\n",
        "                                  (\"scaler\", MaxAbsScaler()),\n",
        "                                  (\"lsa\", TruncatedSVD(n_components=100, random_state=0)),\n",
        "                                  (\"classifier\", SVC(random_state=0))],\n",
        "                                 verbose=True)\n",
        "    return training_pipeline"
      ]
    },
    {
      "cell_type": "code",
      "execution_count": 21,
      "id": "04de292a-1fe0-4d27-b9f3-f104a434a3f5",
      "metadata": {
        "id": "04de292a-1fe0-4d27-b9f3-f104a434a3f5"
      },
      "outputs": [],
      "source": [
        "#############\n",
        "# Model Fit #\n",
        "#############\n",
        "\n",
        "final_features, final_targets = custom_loaders.get_training_data()\n",
        "training_pipeline = get_training_pipeline()\n",
        "# training_pipeline.fit(final_features[1:100], final_targets[1:100])\n",
        "# print(training_pipeline.score(final_features, final_targets))\n",
        "# print(cross_val_score(training_pipeline, final_features, final_targets, n_jobs=-1, verbose=100, scoring='roc_auc'))"
      ]
    },
    {
      "cell_type": "markdown",
      "id": "2a85d30b-026b-49d8-8270-0b730100f97f",
      "metadata": {
        "id": "2a85d30b-026b-49d8-8270-0b730100f97f"
      },
      "source": [
        "# Model Selection\n",
        "\n",
        "We do a `GridSearchCV` with a `StratifiedShuffleSplit` for each feature group on itself (usernames, subreddits, etc.) and all together.  \n",
        "Comment times are useful to identify outliers but don't perform well as gender predictors (at least with our pipeline, maybe with a rolling average/different classifier they would perform better). PoS tags are very expensive for not much benefit.  \n",
        "While visualizing features we notice we have mixed languages in our bunch, and they get represented as segregated topics. "
      ]
    },
    {
      "cell_type": "code",
      "execution_count": 82,
      "id": "6f3cd2b0-5f7d-4b01-a328-cf4f5a11acf8",
      "metadata": {
        "colab": {
          "base_uri": "https://localhost:8080/"
        },
        "id": "6f3cd2b0-5f7d-4b01-a328-cf4f5a11acf8",
        "outputId": "c1918ad4-cca4-4c13-a783-c4280315bbdb"
      },
      "outputs": [
        {
          "output_type": "stream",
          "name": "stdout",
          "text": [
            "Fitting 5 folds for each of 3 candidates, totalling 15 fits\n",
            "[Pipeline] .......... (step 1 of 5) Processing features, total=   8.5s\n",
            "[Pipeline] .......... (step 2 of 5) Processing outliers, total=   2.5s\n",
            "[Pipeline] ............ (step 3 of 5) Processing scaler, total=   0.1s\n",
            "[Pipeline] ............... (step 4 of 5) Processing lsa, total=   0.0s\n",
            "[LibSVM][Pipeline] ........ (step 5 of 5) Processing classifier, total=  41.8s\n",
            "{'classifier': SVC(C=1, probability=True, random_state=0, verbose=True), 'classifier__C': 1, 'classifier__gamma': 'scale', 'features__usr__ngram_range': (1, 3), 'features__vct__max_features': 20000, 'features__vct__ngram_range': (1, 3), 'features__vct__tokenizer': <function tokenize at 0x7fe7a90ee950>, 'lsa': SelectFpr(alpha=0.015), 'lsa__alpha': 0.015, 'scaler': MaxAbsScaler()}\n"
          ]
        }
      ],
      "source": [
        "###################\n",
        "# Model Selection #\n",
        "###################\n",
        "from sklearn.feature_selection import chi2, SelectFpr\n",
        "from sklearn.metrics import roc_auc_score\n",
        "# SVD/SelectKBest/LDA parameters\n",
        "n_components = [100, 200, 400]\n",
        "ks = [100, 200, 400]\n",
        "\n",
        "# Tf-Idf parameters\n",
        "max_dfs = [1.0, 0.7]\n",
        "min_dfs = [1, 0.3]\n",
        "token_patterns = [r\"(?u)\\b\\w\\w+\\b\"] # without lemmatization\n",
        "tokenizers = [custom_transformers.tokenize] # with lemmatization\n",
        "ngrams_tfidf = [(1, 1), (1, 2)]\n",
        "\n",
        "# Username CountVectorizer parameters\n",
        "ngrams_username = [(1, 1), (3, 3)]\n",
        "\n",
        "# SVC parameters\n",
        "gammas = ['scale']\n",
        "cs = [0.01, 0.1, 1, 10]\n",
        "\n",
        "# Classifiers \n",
        "classifiers = [LogisticRegression(C=1, max_iter=10000, random_state=0), \n",
        "               SVC(C=1, gamma='scale', random_state=0, probability=True, verbose=True),\n",
        "               RandomForestClassifier(criterion='entropy', \n",
        "                                      max_depth=None,\n",
        "                                      n_estimators=300,\n",
        "                                      bootstrap=False,\n",
        "                                      random_state=0)]\n",
        "\n",
        "# Dimensionality reduction\n",
        "reducers = [LatentDirichletAllocation(random_state=0), \n",
        "            TruncatedSVD(random_state=0), \n",
        "            SelectKBest(k=100),\n",
        "            SelectFpr(alpha=0.01)]\n",
        "\n",
        "# Scaling\n",
        "\n",
        "scalers = [MaxAbsScaler(), MinMaxScaler(feature_range=(-1, 1))]\n",
        "\n",
        "svc_param_grid = [{'features__vct__max_features' : [20000],\n",
        "                   'features__vct__tokenizer' : tokenizers,\n",
        "                   'features__vct__ngram_range' : [(1, 3)],\n",
        "                   'features__usr__ngram_range' : [(1, 3)],\n",
        "                   'scaler' : [scalers[0]],\n",
        "                   'lsa' : [reducers[3]],\n",
        "                   'lsa__alpha' : np.linspace(0.015, 0.030, 3), #np.logspace(-3, -1, 5),\n",
        "                   #'lsa__n_components' : [500], \n",
        "                   'classifier__C' : [1], #np.logspace(-2,2, num=20), \n",
        "                   'classifier__gamma' : ['scale'], #*np.logspace(-2,2, num=20),\n",
        "                   'classifier' : [classifiers[1]]}]\n",
        "\n",
        "lr_param_grid = [{'features__vct__max_features' : [20000],\n",
        "                   'features__vct__tokenizer' : tokenizers,\n",
        "                   'features__vct__ngram_range' : [(1, 3)],\n",
        "                   'features__usr__ngram_range' : [(1, 3)],\n",
        "                   'lsa__n_components' : [500], \n",
        "                   'classifier__C' : [1], \n",
        "                   'classifier' : [classifiers[0]]}]\n",
        "\n",
        "rf_param_grid = [{'features__vct__max_features' : [20000],\n",
        "                   'features__vct__tokenizer' : tokenizers,\n",
        "                   'features__vct__ngram_range' : [(1, 3)],\n",
        "                   'features__usr__ngram_range' : [(1, 3)],\n",
        "                   'scaler' : [None],\n",
        "                   'lsa__n_components' : [500], \n",
        "                   'classifier' : [classifiers[2]]}]\n",
        "\n",
        "\n",
        "voting_param_grid = [{\n",
        "    'features__vct__max_features' : [20000],\n",
        "    'features__vct__tokenizer' : tokenizers,\n",
        "    'features__vct__ngram_range' : [(1, 3)],\n",
        "    'features__usr__ngram_range' : [(1, 3)],\n",
        "    'lsa__n_components' : [500], \n",
        "    'classifier' : [VotingClassifier([('lr', classifiers[0]),\n",
        "                                      ('svc', classifiers[1]),\n",
        "                                      ('rf', classifiers[2])], \n",
        "                                     voting='soft')]}]\n",
        "\n",
        "selection_pipeline = GridSearchCV(training_pipeline, \n",
        "                                  param_grid=svc_param_grid, \n",
        "                                  scoring='roc_auc', \n",
        "                                  n_jobs=-1,\n",
        "                                  verbose=100,\n",
        "                                  cv=StratifiedShuffleSplit(n_splits=5, train_size=0.80, random_state=0))\n",
        "\n",
        "selection_pipeline.fit(final_features, final_targets)\n",
        "custom_loaders.save_dict_to_disk(selection_pipeline.cv_results_)\n",
        "print(selection_pipeline.best_params_)"
      ]
    },
    {
      "cell_type": "code",
      "source": [
        "np.linspace(0.015, 0.005, 5)[0]"
      ],
      "metadata": {
        "id": "tTlimpFMXARp",
        "outputId": "403d825e-aed7-4d60-f8ca-a9c46a344685",
        "colab": {
          "base_uri": "https://localhost:8080/"
        }
      },
      "id": "tTlimpFMXARp",
      "execution_count": 81,
      "outputs": [
        {
          "output_type": "execute_result",
          "data": {
            "text/plain": [
              "0.015"
            ]
          },
          "metadata": {},
          "execution_count": 81
        }
      ]
    },
    {
      "cell_type": "code",
      "execution_count": 83,
      "id": "67622390-dd84-4be6-8b81-24a96a2f5370",
      "metadata": {
        "colab": {
          "base_uri": "https://localhost:8080/",
          "height": 393
        },
        "id": "67622390-dd84-4be6-8b81-24a96a2f5370",
        "outputId": "e5f9c881-c100-447c-8705-f57cae4ff183"
      },
      "outputs": [
        {
          "output_type": "execute_result",
          "data": {
            "text/plain": [
              "   mean_fit_time  std_fit_time  mean_score_time  std_score_time  \\\n",
              "0      49.438432      1.864088         3.126822        0.124837   \n",
              "1      52.374254      1.714556         3.225025        0.151244   \n",
              "2      50.515326      3.750735         2.786675        0.497704   \n",
              "\n",
              "                                    param_classifier param_classifier__C  \\\n",
              "0  SVC(C=1, probability=True, random_state=0, ver...                   1   \n",
              "1  SVC(C=1, probability=True, random_state=0, ver...                   1   \n",
              "2  SVC(C=1, probability=True, random_state=0, ver...                   1   \n",
              "\n",
              "  param_classifier__gamma param_features__usr__ngram_range  \\\n",
              "0                   scale                           (1, 3)   \n",
              "1                   scale                           (1, 3)   \n",
              "2                   scale                           (1, 3)   \n",
              "\n",
              "  param_features__vct__max_features param_features__vct__ngram_range  ...  \\\n",
              "0                             20000                           (1, 3)  ...   \n",
              "1                             20000                           (1, 3)  ...   \n",
              "2                             20000                           (1, 3)  ...   \n",
              "\n",
              "     param_scaler                                             params  \\\n",
              "0  MaxAbsScaler()  {'classifier': SVC(C=1, probability=True, rand...   \n",
              "1  MaxAbsScaler()  {'classifier': SVC(C=1, probability=True, rand...   \n",
              "2  MaxAbsScaler()  {'classifier': SVC(C=1, probability=True, rand...   \n",
              "\n",
              "  split0_test_score split1_test_score split2_test_score  split3_test_score  \\\n",
              "0          0.840996          0.847518          0.832392           0.842474   \n",
              "1          0.841119          0.849429          0.826439           0.840081   \n",
              "2          0.843696          0.849452          0.831460           0.839863   \n",
              "\n",
              "   split4_test_score  mean_test_score  std_test_score  rank_test_score  \n",
              "0           0.838602         0.840397        0.004953                1  \n",
              "1           0.835573         0.838528        0.007521                3  \n",
              "2           0.832922         0.839479        0.006703                2  \n",
              "\n",
              "[3 rows x 23 columns]"
            ],
            "text/html": [
              "\n",
              "  <div id=\"df-73dd49e0-82c5-4996-a8db-93e783333e8d\">\n",
              "    <div class=\"colab-df-container\">\n",
              "      <div>\n",
              "<style scoped>\n",
              "    .dataframe tbody tr th:only-of-type {\n",
              "        vertical-align: middle;\n",
              "    }\n",
              "\n",
              "    .dataframe tbody tr th {\n",
              "        vertical-align: top;\n",
              "    }\n",
              "\n",
              "    .dataframe thead th {\n",
              "        text-align: right;\n",
              "    }\n",
              "</style>\n",
              "<table border=\"1\" class=\"dataframe\">\n",
              "  <thead>\n",
              "    <tr style=\"text-align: right;\">\n",
              "      <th></th>\n",
              "      <th>mean_fit_time</th>\n",
              "      <th>std_fit_time</th>\n",
              "      <th>mean_score_time</th>\n",
              "      <th>std_score_time</th>\n",
              "      <th>param_classifier</th>\n",
              "      <th>param_classifier__C</th>\n",
              "      <th>param_classifier__gamma</th>\n",
              "      <th>param_features__usr__ngram_range</th>\n",
              "      <th>param_features__vct__max_features</th>\n",
              "      <th>param_features__vct__ngram_range</th>\n",
              "      <th>...</th>\n",
              "      <th>param_scaler</th>\n",
              "      <th>params</th>\n",
              "      <th>split0_test_score</th>\n",
              "      <th>split1_test_score</th>\n",
              "      <th>split2_test_score</th>\n",
              "      <th>split3_test_score</th>\n",
              "      <th>split4_test_score</th>\n",
              "      <th>mean_test_score</th>\n",
              "      <th>std_test_score</th>\n",
              "      <th>rank_test_score</th>\n",
              "    </tr>\n",
              "  </thead>\n",
              "  <tbody>\n",
              "    <tr>\n",
              "      <th>0</th>\n",
              "      <td>49.438432</td>\n",
              "      <td>1.864088</td>\n",
              "      <td>3.126822</td>\n",
              "      <td>0.124837</td>\n",
              "      <td>SVC(C=1, probability=True, random_state=0, ver...</td>\n",
              "      <td>1</td>\n",
              "      <td>scale</td>\n",
              "      <td>(1, 3)</td>\n",
              "      <td>20000</td>\n",
              "      <td>(1, 3)</td>\n",
              "      <td>...</td>\n",
              "      <td>MaxAbsScaler()</td>\n",
              "      <td>{'classifier': SVC(C=1, probability=True, rand...</td>\n",
              "      <td>0.840996</td>\n",
              "      <td>0.847518</td>\n",
              "      <td>0.832392</td>\n",
              "      <td>0.842474</td>\n",
              "      <td>0.838602</td>\n",
              "      <td>0.840397</td>\n",
              "      <td>0.004953</td>\n",
              "      <td>1</td>\n",
              "    </tr>\n",
              "    <tr>\n",
              "      <th>1</th>\n",
              "      <td>52.374254</td>\n",
              "      <td>1.714556</td>\n",
              "      <td>3.225025</td>\n",
              "      <td>0.151244</td>\n",
              "      <td>SVC(C=1, probability=True, random_state=0, ver...</td>\n",
              "      <td>1</td>\n",
              "      <td>scale</td>\n",
              "      <td>(1, 3)</td>\n",
              "      <td>20000</td>\n",
              "      <td>(1, 3)</td>\n",
              "      <td>...</td>\n",
              "      <td>MaxAbsScaler()</td>\n",
              "      <td>{'classifier': SVC(C=1, probability=True, rand...</td>\n",
              "      <td>0.841119</td>\n",
              "      <td>0.849429</td>\n",
              "      <td>0.826439</td>\n",
              "      <td>0.840081</td>\n",
              "      <td>0.835573</td>\n",
              "      <td>0.838528</td>\n",
              "      <td>0.007521</td>\n",
              "      <td>3</td>\n",
              "    </tr>\n",
              "    <tr>\n",
              "      <th>2</th>\n",
              "      <td>50.515326</td>\n",
              "      <td>3.750735</td>\n",
              "      <td>2.786675</td>\n",
              "      <td>0.497704</td>\n",
              "      <td>SVC(C=1, probability=True, random_state=0, ver...</td>\n",
              "      <td>1</td>\n",
              "      <td>scale</td>\n",
              "      <td>(1, 3)</td>\n",
              "      <td>20000</td>\n",
              "      <td>(1, 3)</td>\n",
              "      <td>...</td>\n",
              "      <td>MaxAbsScaler()</td>\n",
              "      <td>{'classifier': SVC(C=1, probability=True, rand...</td>\n",
              "      <td>0.843696</td>\n",
              "      <td>0.849452</td>\n",
              "      <td>0.831460</td>\n",
              "      <td>0.839863</td>\n",
              "      <td>0.832922</td>\n",
              "      <td>0.839479</td>\n",
              "      <td>0.006703</td>\n",
              "      <td>2</td>\n",
              "    </tr>\n",
              "  </tbody>\n",
              "</table>\n",
              "<p>3 rows × 23 columns</p>\n",
              "</div>\n",
              "      <button class=\"colab-df-convert\" onclick=\"convertToInteractive('df-73dd49e0-82c5-4996-a8db-93e783333e8d')\"\n",
              "              title=\"Convert this dataframe to an interactive table.\"\n",
              "              style=\"display:none;\">\n",
              "        \n",
              "  <svg xmlns=\"http://www.w3.org/2000/svg\" height=\"24px\"viewBox=\"0 0 24 24\"\n",
              "       width=\"24px\">\n",
              "    <path d=\"M0 0h24v24H0V0z\" fill=\"none\"/>\n",
              "    <path d=\"M18.56 5.44l.94 2.06.94-2.06 2.06-.94-2.06-.94-.94-2.06-.94 2.06-2.06.94zm-11 1L8.5 8.5l.94-2.06 2.06-.94-2.06-.94L8.5 2.5l-.94 2.06-2.06.94zm10 10l.94 2.06.94-2.06 2.06-.94-2.06-.94-.94-2.06-.94 2.06-2.06.94z\"/><path d=\"M17.41 7.96l-1.37-1.37c-.4-.4-.92-.59-1.43-.59-.52 0-1.04.2-1.43.59L10.3 9.45l-7.72 7.72c-.78.78-.78 2.05 0 2.83L4 21.41c.39.39.9.59 1.41.59.51 0 1.02-.2 1.41-.59l7.78-7.78 2.81-2.81c.8-.78.8-2.07 0-2.86zM5.41 20L4 18.59l7.72-7.72 1.47 1.35L5.41 20z\"/>\n",
              "  </svg>\n",
              "      </button>\n",
              "      \n",
              "  <style>\n",
              "    .colab-df-container {\n",
              "      display:flex;\n",
              "      flex-wrap:wrap;\n",
              "      gap: 12px;\n",
              "    }\n",
              "\n",
              "    .colab-df-convert {\n",
              "      background-color: #E8F0FE;\n",
              "      border: none;\n",
              "      border-radius: 50%;\n",
              "      cursor: pointer;\n",
              "      display: none;\n",
              "      fill: #1967D2;\n",
              "      height: 32px;\n",
              "      padding: 0 0 0 0;\n",
              "      width: 32px;\n",
              "    }\n",
              "\n",
              "    .colab-df-convert:hover {\n",
              "      background-color: #E2EBFA;\n",
              "      box-shadow: 0px 1px 2px rgba(60, 64, 67, 0.3), 0px 1px 3px 1px rgba(60, 64, 67, 0.15);\n",
              "      fill: #174EA6;\n",
              "    }\n",
              "\n",
              "    [theme=dark] .colab-df-convert {\n",
              "      background-color: #3B4455;\n",
              "      fill: #D2E3FC;\n",
              "    }\n",
              "\n",
              "    [theme=dark] .colab-df-convert:hover {\n",
              "      background-color: #434B5C;\n",
              "      box-shadow: 0px 1px 3px 1px rgba(0, 0, 0, 0.15);\n",
              "      filter: drop-shadow(0px 1px 2px rgba(0, 0, 0, 0.3));\n",
              "      fill: #FFFFFF;\n",
              "    }\n",
              "  </style>\n",
              "\n",
              "      <script>\n",
              "        const buttonEl =\n",
              "          document.querySelector('#df-73dd49e0-82c5-4996-a8db-93e783333e8d button.colab-df-convert');\n",
              "        buttonEl.style.display =\n",
              "          google.colab.kernel.accessAllowed ? 'block' : 'none';\n",
              "\n",
              "        async function convertToInteractive(key) {\n",
              "          const element = document.querySelector('#df-73dd49e0-82c5-4996-a8db-93e783333e8d');\n",
              "          const dataTable =\n",
              "            await google.colab.kernel.invokeFunction('convertToInteractive',\n",
              "                                                     [key], {});\n",
              "          if (!dataTable) return;\n",
              "\n",
              "          const docLinkHtml = 'Like what you see? Visit the ' +\n",
              "            '<a target=\"_blank\" href=https://colab.research.google.com/notebooks/data_table.ipynb>data table notebook</a>'\n",
              "            + ' to learn more about interactive tables.';\n",
              "          element.innerHTML = '';\n",
              "          dataTable['output_type'] = 'display_data';\n",
              "          await google.colab.output.renderOutput(dataTable, element);\n",
              "          const docLink = document.createElement('div');\n",
              "          docLink.innerHTML = docLinkHtml;\n",
              "          element.appendChild(docLink);\n",
              "        }\n",
              "      </script>\n",
              "    </div>\n",
              "  </div>\n",
              "  "
            ]
          },
          "metadata": {},
          "execution_count": 83
        }
      ],
      "source": [
        "pd.DataFrame.from_dict(selection_pipeline.cv_results_)"
      ]
    },
    {
      "cell_type": "code",
      "execution_count": null,
      "id": "dbfb7f12-309c-499e-9f55-5aabc7ae31b0",
      "metadata": {
        "id": "dbfb7f12-309c-499e-9f55-5aabc7ae31b0",
        "outputId": "aa07daf6-b2a5-408a-8429-77384a7b6f51"
      },
      "outputs": [
        {
          "data": {
            "text/plain": [
              "0.9689581269126082"
            ]
          },
          "execution_count": 6,
          "metadata": {},
          "output_type": "execute_result"
        }
      ],
      "source": [
        "selection_pipeline.score(final_features, final_targets)"
      ]
    },
    {
      "cell_type": "markdown",
      "id": "352c3ffb-9145-41be-b339-7984adf94b0a",
      "metadata": {
        "id": "352c3ffb-9145-41be-b339-7984adf94b0a"
      },
      "source": [
        "# Feature Visualization"
      ]
    },
    {
      "cell_type": "code",
      "execution_count": null,
      "id": "9a30b19c-8078-4a92-9c92-cb67c64221c6",
      "metadata": {
        "id": "9a30b19c-8078-4a92-9c92-cb67c64221c6"
      },
      "outputs": [],
      "source": [
        "#########################\n",
        "# Feature Visualization #\n",
        "#########################\n",
        "\n",
        "pipeline_to_visualize = selection_pipeline.best_estimator_\n",
        "feature_names = [*pipeline_to_visualize.steps[0][1].transformer_list[0][1].vectorizer.get_feature_names_out(),\n",
        "                 *pipeline_to_visualize.steps[0][1].transformer_list[1][1].vectorizer.get_feature_names_out(),\n",
        "                 'USERNAME_LENGTH',\n",
        "                 *pipeline_to_visualize.steps[0][1].transformer_list[2][1].vectorizer.get_feature_names_out()]\n",
        "\n",
        "for idx, feature in enumerate(list(pipeline_to_visualize.steps[2][1].components_)):\n",
        "    row = f'Component {idx:03}: '\n",
        "    for idf, component in enumerate(feature):\n",
        "        if (idf < len(feature_names) and component > 0.035):\n",
        "            row = row + f'{feature_names[idf]} '  \n",
        "    print(row)"
      ]
    },
    {
      "cell_type": "markdown",
      "id": "a5b86653-28e5-42a9-acb3-9766cc8e7432",
      "metadata": {
        "id": "a5b86653-28e5-42a9-acb3-9766cc8e7432"
      },
      "source": [
        "# Evaluate on Test Set"
      ]
    },
    {
      "cell_type": "code",
      "execution_count": null,
      "id": "143b08c6-8933-4571-917c-a5abec2203c0",
      "metadata": {
        "id": "143b08c6-8933-4571-917c-a5abec2203c0"
      },
      "outputs": [],
      "source": [
        "test_features = custom_loaders.get_test_data()\n",
        "predictions = selection_pipeline.predict_proba(test_features)"
      ]
    },
    {
      "cell_type": "code",
      "execution_count": null,
      "id": "c98ef3fa-6ea9-42d9-bd9d-98b0eb3bdf84",
      "metadata": {
        "id": "c98ef3fa-6ea9-42d9-bd9d-98b0eb3bdf84"
      },
      "outputs": [],
      "source": [
        "custom_loaders.save_submission_to_disk(test_features, predictions[:,1])"
      ]
    }
  ],
  "metadata": {
    "kernelspec": {
      "display_name": "Python 3 (ipykernel)",
      "language": "python",
      "name": "python3"
    },
    "language_info": {
      "codemirror_mode": {
        "name": "ipython",
        "version": 3
      },
      "file_extension": ".py",
      "mimetype": "text/x-python",
      "name": "python",
      "nbconvert_exporter": "python",
      "pygments_lexer": "ipython3",
      "version": "3.10.6"
    },
    "colab": {
      "provenance": [],
      "machine_shape": "hm"
    }
  },
  "nbformat": 4,
  "nbformat_minor": 5
}