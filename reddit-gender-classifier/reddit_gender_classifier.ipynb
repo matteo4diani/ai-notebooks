{
 "cells": [
  {
   "cell_type": "code",
   "execution_count": 2,
   "id": "e8de08fe-de9c-4998-91a6-d101e5fe0445",
   "metadata": {},
   "outputs": [],
   "source": [
    "%matplotlib inline\n",
    "from collections import Counter\n",
    "from collections import defaultdict\n",
    "\n",
    "import pandas as pd\n",
    "import numpy as np\n",
    "from matplotlib import pyplot as plt\n",
    "from scipy import sparse\n",
    "import re\n",
    "import nltk\n",
    "\n",
    "from sklearn.base import BaseEstimator, TransformerMixin\n",
    "from sklearn.feature_extraction.text import CountVectorizer, TfidfTransformer\n",
    "from sklearn.feature_extraction import DictVectorizer\n",
    "from sklearn.preprocessing import StandardScaler\n",
    "from sklearn.svm import SVC\n",
    "from sklearn.linear_model import LogisticRegression\n",
    "from sklearn.ensemble import RandomForestClassifier, VotingClassifier\n",
    "from sklearn.naive_bayes import MultinomialNB\n",
    "from sklearn.model_selection import GridSearchCV, StratifiedShuffleSplit, cross_val_score\n",
    "from sklearn.metrics import RocCurveDisplay\n",
    "from sklearn.pipeline import Pipeline\n",
    "\n",
    "import seaborn"
   ]
  },
  {
   "cell_type": "markdown",
   "id": "18210bed-9ba8-49da-b1a4-d6429cebbc0c",
   "metadata": {},
   "source": [
    "# Load data"
   ]
  },
  {
   "cell_type": "code",
   "execution_count": null,
   "id": "769dd38a-c0ab-4c93-81b7-f558bbfcda45",
   "metadata": {},
   "outputs": [],
   "source": []
  },
  {
   "cell_type": "markdown",
   "id": "8f4bfc8a-0b65-4c1f-8b93-449af6c03abc",
   "metadata": {},
   "source": [
    "# Group by author"
   ]
  },
  {
   "cell_type": "code",
   "execution_count": null,
   "id": "6c61ab8c-0af7-43b0-82d3-f92bab338c24",
   "metadata": {},
   "outputs": [],
   "source": []
  },
  {
   "cell_type": "markdown",
   "id": "2e04996b-d1c0-4c15-82c2-bc1426c26b91",
   "metadata": {},
   "source": [
    "# Generate targets"
   ]
  },
  {
   "cell_type": "code",
   "execution_count": null,
   "id": "4cd7524d-515e-4bd2-bd1d-ac23a7d357c1",
   "metadata": {},
   "outputs": [],
   "source": []
  },
  {
   "cell_type": "markdown",
   "id": "c577fa89-564c-469d-a51c-181d89db3070",
   "metadata": {},
   "source": [
    "# Generate Part-Of-Speech data"
   ]
  },
  {
   "cell_type": "code",
   "execution_count": null,
   "id": "6bbd9b1a-cb93-4bc2-88a5-78b9aa02a1f8",
   "metadata": {},
   "outputs": [],
   "source": []
  },
  {
   "cell_type": "markdown",
   "id": "decf0c5f-4997-4cd3-b88c-2004f145c55b",
   "metadata": {},
   "source": [
    "# Generate subreddit data"
   ]
  },
  {
   "cell_type": "code",
   "execution_count": null,
   "id": "a911a192-c070-43f3-869c-d19778b5ab87",
   "metadata": {},
   "outputs": [],
   "source": []
  },
  {
   "cell_type": "markdown",
   "id": "e0ebcde3-de1b-436c-8707-c552cc5a5bd0",
   "metadata": {},
   "source": [
    "# Generate timestamp data"
   ]
  },
  {
   "cell_type": "code",
   "execution_count": null,
   "id": "cdb18f16-adc9-477c-b6af-0ec78ebce642",
   "metadata": {},
   "outputs": [],
   "source": []
  },
  {
   "cell_type": "markdown",
   "id": "4f9f6a11-9673-4d0a-9994-3d2eb6ba3d94",
   "metadata": {},
   "source": [
    "# Clean comment data"
   ]
  },
  {
   "cell_type": "code",
   "execution_count": null,
   "id": "d8c26334-6e21-4dec-a66a-785f3e3f8d05",
   "metadata": {},
   "outputs": [],
   "source": []
  },
  {
   "cell_type": "markdown",
   "id": "ab7dc5d2-7049-4135-8388-3abc2481ef57",
   "metadata": {},
   "source": [
    "# Generate cv/tfidf comment data"
   ]
  },
  {
   "cell_type": "code",
   "execution_count": null,
   "id": "8630307f-6147-44f4-9c47-9c2ef414efb2",
   "metadata": {},
   "outputs": [],
   "source": []
  },
  {
   "cell_type": "markdown",
   "id": "44bbd8ee-fa0c-4022-b504-6d829a5d1b75",
   "metadata": {},
   "source": [
    "# Generate username data"
   ]
  },
  {
   "cell_type": "code",
   "execution_count": null,
   "id": "d574df66-b489-413d-8567-2b117f5b3c2f",
   "metadata": {},
   "outputs": [],
   "source": []
  },
  {
   "cell_type": "markdown",
   "id": "22e84dec-804a-47d7-bafc-293f50102eb4",
   "metadata": {},
   "source": [
    "# Latent Semantic Analysis"
   ]
  },
  {
   "cell_type": "code",
   "execution_count": null,
   "id": "160d596b-8770-4b65-bc4b-96af31479014",
   "metadata": {},
   "outputs": [],
   "source": []
  },
  {
   "cell_type": "markdown",
   "id": "898e922f-e42a-4a6f-9ab7-0f7936c62692",
   "metadata": {},
   "source": [
    "# Fit together/separately and with different estimators"
   ]
  },
  {
   "cell_type": "code",
   "execution_count": null,
   "id": "757f0be2-3c62-45c7-8864-b6d1569580d1",
   "metadata": {},
   "outputs": [],
   "source": []
  },
  {
   "cell_type": "markdown",
   "id": "c92d4ce8-627f-407e-a6d4-c32a7ddd26df",
   "metadata": {},
   "source": [
    "# Voting classifier"
   ]
  },
  {
   "cell_type": "code",
   "execution_count": null,
   "id": "7bf3df5d-ee70-4e6f-b60f-6eb57df07b68",
   "metadata": {},
   "outputs": [],
   "source": []
  }
 ],
 "metadata": {
  "kernelspec": {
   "display_name": "Python 3 (ipykernel)",
   "language": "python",
   "name": "python3"
  },
  "language_info": {
   "codemirror_mode": {
    "name": "ipython",
    "version": 3
   },
   "file_extension": ".py",
   "mimetype": "text/x-python",
   "name": "python",
   "nbconvert_exporter": "python",
   "pygments_lexer": "ipython3",
   "version": "3.10.6"
  }
 },
 "nbformat": 4,
 "nbformat_minor": 5
}
