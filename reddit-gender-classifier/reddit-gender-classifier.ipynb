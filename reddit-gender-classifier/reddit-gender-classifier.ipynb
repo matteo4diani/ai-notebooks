{
 "cells": [
  {
   "cell_type": "code",
   "execution_count": 1,
   "id": "d66a214a-4f63-4013-8eb0-e56d0e97b5eb",
   "metadata": {},
   "outputs": [],
   "source": [
    "%matplotlib inline\n",
    "import pandas as pd\n",
    "import numpy as np\n",
    "from matplotlib import pyplot as plt\n",
    "from scipy import sparse"
   ]
  },
  {
   "cell_type": "code",
   "execution_count": 2,
   "id": "692a1230-3ab1-4560-a3ae-f0e2ab5d86cc",
   "metadata": {},
   "outputs": [],
   "source": [
    "training_set_dataframe = pd.read_csv(\"data/train_data.csv\", encoding=\"utf8\")\n",
    "training_set_dataframe.head()"
   ]
  },
  {
   "cell_type": "code",
   "execution_count": 4,
   "id": "654bb4ff-af20-4e64-9f46-ea12fc112edf",
   "metadata": {},
   "outputs": [
    {
     "data": {
      "text/plain": [
       "(5000,)"
      ]
     },
     "execution_count": 4,
     "metadata": {},
     "output_type": "execute_result"
    }
   ],
   "source": [
    "training_set_dataframe.author.unique().shape"
   ]
  },
  {
   "cell_type": "code",
   "execution_count": 5,
   "id": "fdce9eaa-6b70-4276-a9a1-b43af59b523b",
   "metadata": {},
   "outputs": [],
   "source": [
    "training_targets_dataframe = pd.read_csv(\"data/train_target.csv\")\n",
    "training_targets_dataframe.head()"
   ]
  },
  {
   "cell_type": "code",
   "execution_count": 33,
   "id": "46fa5c4d-7651-4387-8a4f-72b86515cb25",
   "metadata": {},
   "outputs": [
    {
     "data": {
      "text/plain": [
       "[\"I don't think we'd get nearly as much fanfiction and pictures shipping Ban-Ban and Lyro. Just saying.\",\n",
       " \"Thanks. I made it up, that's how I got over my first heart break. \",\n",
       " \"Are you sure you aren't confusing Cyclops (the easiest boss monster) for Ogres? I'm talking about [these guys](http://i.imgur.com/c3YKPdI.jpg)\\n\\nMaybe I'm just a bad player... But every time I faced one on my first playthrough, all my pawns ended up getting to 0 HP at least once and I could barely get an attack in once it started berserking.\",\n",
       " 'dont do this to me bro',\n",
       " \"That's what we do when we can't find a mate\",\n",
       " 'Damn I love this question. Here\\'s what I think:\\n\\n* Church Fathers and earlier heresies (i.e. Gnosticism, Marcionism, Arianism etc...). Also including arguments Church Fathers held for the true Christianity. And it\\'d be awesome if there was St. Nicholas laying the smack down on Arius. \\n\\n* Persecutions of Christians\\n\\n* Constantine\\'s conversion and legalization of Christianity\\n\\n* Ecumenical Councils \\n\\n* Charlemagne (and some his ancestors such as Pepin the short)\\n\\n* Justinian\\'s Hagia Sophia and how he said something along the lines of \"Solomon I have surpassed you\"\\n\\n* Islam and Christian-Islamic Tension\\n\\n* Great Schism of 1054\\n\\n* Crusades\\n\\n* Inquisition\\n\\n* Great Western Schism (Anti-Popes and the true popes) and the Council of Constance\\n\\n* The \"Renaissance popes\" that weren\\'t known for being too great...\\n\\n* Martin Luther (views on him would differ since Catholics, Orthodox, and Protestants would disagree)\\n\\n* King Henry VIII and the rise of the Church of England\\n\\n* Council of Trent (if it was a Catholic Bible)\\n\\n* Napoleon\\n\\n* Nazism, Fascism, Communism and the Christian response\\n\\n* Maybe some Gandhi\\n\\n* Vatican Council I and II\\n\\n* Catholic Church\\'s sex-abuse scandal \\n\\n* Also some false teachers like Harold Camping\\n\\n* Stuff about atheists over the years (Voltaire to the \"new\" atheists such as Hitchens, Harris, Dawkins) \\n\\n* Homosexuality and Abortion (Roe V. Wade)\\n\\nThat\\'s all I can think of off the top of my head, but there\\'s probably a lot more interesting historical events. ',\n",
       " \"Sorry about that one post btw lol. I hope it didn't cause you guys too much trouble. I just wanted to bring up an issue I thought needed to be changed. I do get just because it was upvoted it shouldn't be changed, because a lot of people just upvote without thinking. I still think there needs to be a limit but thanks for trying to change the repost rule even if it doesn't get changed :D\",\n",
       " \"Ad 1 &amp; 2. Right. I was mistaken.\\n\\nAd 3. I'm not against firearms. I'd rather everyone had access to weapons.\",\n",
       " \"I thought it was Colm Meaney whenever he's in a serious role.\\n\\n[Colm Meaney](https://www.google.com/search?q=colm+meaney&amp;tbm=isch)    \\n[John C. Reilly](https://www.google.com/search?q=john+c+reilly&amp;tbm=isch)\",\n",
       " 'FAck. Looks like 4 mins.']"
      ]
     },
     "execution_count": 33,
     "metadata": {},
     "output_type": "execute_result"
    }
   ],
   "source": [
    "training_set = list(training_set_dataframe.body)\n",
    "training_set[:10]"
   ]
  },
  {
   "cell_type": "code",
   "execution_count": 32,
   "id": "99465e70-8a78-4433-8a3b-fae711d27cbb",
   "metadata": {
    "tags": []
   },
   "outputs": [
    {
     "data": {
      "text/plain": [
       "[0, 1, 0, 0, 0, 0, 0, 0, 0, 0]"
      ]
     },
     "execution_count": 32,
     "metadata": {},
     "output_type": "execute_result"
    }
   ],
   "source": [
    "training_targets_dictionary = dict(zip(targets.author, targets.gender))\n",
    "training_targets = list(map(lambda a: training_targets_dictionary[a], training_set_dataframe.author))\n",
    "training_targets[:10]"
   ]
  },
  {
   "cell_type": "code",
   "execution_count": 10,
   "id": "6454c1ed-e84a-4367-aeb7-127a30648a48",
   "metadata": {},
   "outputs": [
    {
     "name": "stdout",
     "output_type": "stream",
     "text": [
      "y_train is a list of categories: [0, 1, 0, 0, 0, 0, 0, 0, 0, 0, 0, 0, 0, 0, 1, 1, 0, 1, 0, 1, 1, 0, 1,  ...\n",
      "X_train has 100000 feature vectors\n",
      "y_train has 296042 target classes\n",
      "dataset has 296042 rows\n"
     ]
    },
    {
     "data": {
      "text/plain": [
       "\"\\nclf2 = Pipeline([\\n     ('vect', CountVectorizer()),\\n     ('tfidf', TfidfTransformer()),\\n     ('clf2', SGDClassifier(loss='hinge', penalty='elasticnet',\\n                           alpha=1e-3, random_state=0,\\n                           max_iter=10, tol=None)),\\n])\\n\""
      ]
     },
     "execution_count": 10,
     "metadata": {},
     "output_type": "execute_result"
    }
   ],
   "source": [
    "from sklearn.feature_extraction.text import CountVectorizer, TfidfTransformer\n",
    "from sklearn.naive_bayes import MultinomialNB\n",
    "from sklearn.linear_model import LogisticRegression\n",
    "from sklearn.pipeline import Pipeline\n",
    "from sklearn import preprocessing\n",
    "\n",
    "token_pattern ='(?u)\\\\b[A-Za-z]{1,}'\n",
    "count_vectorizer = CountVectorizer(max_features = 100000, token_pattern = token_pattern, ngram_range = (1, 2))\n",
    "count_vectorized_training_set = count_vectorizer.fit_transform(training_set)\n",
    "tfidf = TfidfTransformer()                     \n",
    "tfidf_training_set = tfidf.fit_transform(count_vectorized_training_set) \n",
    "standard_scaler = preprocessing.StandardScaler(with_mean = False).fit(tfidf_training_set)\n",
    "tfidf_scaled_training_set = standard_scaler.transform(tfidf_training_set)\n",
    "\n",
    "print(\"training_targets is a list of categories: %s ...\" % str(training_targets)[:70])\n",
    "print(\"tfidf_scaled_training_set has %d feature vectors with dim \" % (tfidf_scaled_training_set.shape[1]))\n",
    "print(\"dataset has %d rows\" % (len(training_set)))"
   ]
  },
  {
   "cell_type": "code",
   "execution_count": 16,
   "id": "8b573025-3f26-4761-b0a4-3713da3e90e3",
   "metadata": {},
   "outputs": [
    {
     "name": "stdout",
     "output_type": "stream",
     "text": [
      "Trained MultinomialNB Classifier\n",
      "0.8249809148701873\n"
     ]
    }
   ],
   "source": [
    "clf_multinomial_naive_bayes = MultinomialNB()\n",
    "clf_multinomial_naive_bayes.fit(tfidf_scaled_training_set, training_targets)\n",
    "print(\"Trained MultinomialNB Classifier\")\n",
    "print(clf_multinomial_naive_bayes.score(tfidf_scaled_training_set, training_targets))"
   ]
  },
  {
   "cell_type": "code",
   "execution_count": 17,
   "id": "2d73b22f-b57b-479e-9f5d-a99e9628f38e",
   "metadata": {},
   "outputs": [
    {
     "name": "stdout",
     "output_type": "stream",
     "text": [
      "Trained Logistic Classifier\n"
     ]
    }
   ],
   "source": [
    "clf_logistic_regression = LogisticRegression(C = 1, tol = 0.1, max_iter=10000, random_state = 0)\n",
    "clf_logistic_regression.fit(tfidf_scaled_training_set, training_targets)\n",
    "print(\"Trained Logistic Classifier\")\n",
    "print(clf_logistic_regression.score(tfidf_scaled_training_set, training_targets))"
   ]
  },
  {
   "cell_type": "code",
   "execution_count": 24,
   "id": "087ba1f3-1e5d-4906-a108-fc093ec7c46e",
   "metadata": {},
   "outputs": [
    {
     "name": "stdout",
     "output_type": "stream",
     "text": [
      "0.9779997432796698\n"
     ]
    }
   ],
   "source": [
    "token_pattern ='(?u)\\\\b[A-Za-z]{1,}'\n",
    "clf_pipeline = Pipeline([\n",
    "     ('vect', CountVectorizer(max_features = 100000, token_pattern = token_pattern, ngram_range = (1, 2))),\n",
    "     ('tfidf', TfidfTransformer()),\n",
    "     ('scaler', preprocessing.StandardScaler(with_mean = False)),\n",
    "     ('clf', LogisticRegression(C = 1, tol = 0.1, max_iter=10000, random_state = 0))\n",
    "])\n",
    "clf_pipeline.fit(training_set, training_targets)\n",
    "print(clf_pipeline.score(training_set, training_targets))"
   ]
  },
  {
   "cell_type": "code",
   "execution_count": 24,
   "id": "cf3af39e-c922-4106-8c70-cd73e1de3e10",
   "metadata": {},
   "outputs": [
    {
     "name": "stdout",
     "output_type": "stream",
     "text": [
      "mylittlepony            0\n",
      "sex                     1\n",
      "DragonsDogma            2\n",
      "malefashionadvice       3\n",
      "todayilearned           4\n",
      "                     ... \n",
      "palegirls            3463\n",
      "onions               3464\n",
      "mumfordandsons       3465\n",
      "infertility          3466\n",
      "HangoutFest          3467\n",
      "Length: 3468, dtype: int32\n",
      "['mylittlepony' 'sex' 'DragonsDogma' ... 'mumfordandsons' 'infertility'\n",
      " 'HangoutFest']\n"
     ]
    }
   ],
   "source": [
    "subreddits = training_set.subreddit.unique()\n",
    "subreddits_map = pd.Series(index=subreddits, data=arange(subreddits.shape[0]))\n",
    "print(subreddits_map)\n",
    "print(subreddits)"
   ]
  },
  {
   "cell_type": "code",
   "execution_count": 33,
   "id": "52462e0e-9e40-42e0-aea4-65264b8df6f9",
   "metadata": {},
   "outputs": [
    {
     "name": "stdout",
     "output_type": "stream",
     "text": [
      "  (0, 103)\t1.0\n",
      "  (1, 45)\t1.0\n",
      "  (1, 7)\t1.0\n",
      "  (1, 95)\t1.0\n",
      "  (1, 22)\t1.0\n",
      "  (1, 925)\t1.0\n",
      "  (1, 384)\t1.0\n",
      "  (1, 50)\t1.0\n",
      "  (1, 12)\t1.0\n",
      "  (1, 17)\t1.0\n",
      "  (1, 4)\t1.0\n",
      "  (1, 507)\t1.0\n",
      "  (1, 1040)\t1.0\n",
      "  (1, 2678)\t1.0\n",
      "  (1, 434)\t1.0\n",
      "  (1, 472)\t1.0\n",
      "  (1, 1756)\t1.0\n",
      "  (1, 826)\t1.0\n",
      "  (2, 53)\t1.0\n",
      "  (3, 120)\t1.0\n",
      "  (3, 1646)\t1.0\n",
      "  (3, 7)\t1.0\n",
      "  (3, 95)\t1.0\n",
      "  (3, 17)\t1.0\n",
      "  (3, 1850)\t1.0\n",
      "  :\t:\n",
      "  (4998, 41)\t1.0\n",
      "  (4998, 794)\t1.0\n",
      "  (4998, 19)\t1.0\n",
      "  (4998, 7)\t1.0\n",
      "  (4998, 81)\t1.0\n",
      "  (4998, 14)\t1.0\n",
      "  (4998, 1165)\t1.0\n",
      "  (4998, 115)\t1.0\n",
      "  (4999, 1378)\t1.0\n",
      "  (4999, 95)\t1.0\n",
      "  (4999, 12)\t1.0\n",
      "  (4999, 126)\t1.0\n",
      "  (4999, 1373)\t1.0\n",
      "  (4999, 3)\t1.0\n",
      "  (4999, 8)\t1.0\n",
      "  (4999, 1664)\t1.0\n",
      "  (4999, 768)\t1.0\n",
      "  (4999, 704)\t1.0\n",
      "  (4999, 547)\t1.0\n",
      "  (4999, 206)\t1.0\n",
      "  (4999, 182)\t1.0\n",
      "  (4999, 915)\t1.0\n",
      "  (4999, 325)\t1.0\n",
      "  (4999, 2280)\t1.0\n",
      "  (4999, 7)\t1.0\n",
      "0       0\n",
      "1       1\n",
      "2       0\n",
      "3       0\n",
      "4       0\n",
      "       ..\n",
      "4995    0\n",
      "4996    1\n",
      "4997    0\n",
      "4998    1\n",
      "4999    0\n",
      "Name: gender, Length: 5000, dtype: int64\n"
     ]
    }
   ],
   "source": [
    "def extract_features(group):\n",
    "    group_subreddits = group['subreddit']\n",
    "    group_subreddits = group_subreddits[group_subreddits.isin(subreddits_map.index)].values\n",
    "    idxs = subreddits_map.loc[group_subreddits].values\n",
    "    v = sparse.dok_matrix((1, subreddits.shape[0]))\n",
    "    for idx in idxs:\n",
    "        if not np.isnan(idx):\n",
    "            v[0, idx] = 1\n",
    "    return v.tocsr()\n",
    "\n",
    "extract_features(training_set[training_set.author=='RedThunder90'])\n",
    "\n",
    "features_dict = {}\n",
    "\n",
    "for author, group in training_set.groupby('author'):\n",
    "    features_dict[author] = extract_features(group)\n",
    "    \n",
    "X = sparse.vstack([features_dict[author] for author in targets.author])\n",
    "print(X)\n",
    "\n",
    "y = targets.gender\n",
    "print(y)"
   ]
  },
  {
   "cell_type": "code",
   "execution_count": 29,
   "id": "68e8b927-b634-4f6f-9701-c1944cba6e8e",
   "metadata": {},
   "outputs": [
    {
     "data": {
      "text/plain": [
       "'I still prefer to buy foods either grown locally or where animals are treated better, but this definitely has me looking at organic food differently.'"
      ]
     },
     "execution_count": 29,
     "metadata": {},
     "output_type": "execute_result"
    }
   ],
   "source": [
    "def extract_text(group):\n",
    "    group_text = group['body'].astype(str).values\n",
    "    return \" \".join(group_text)\n",
    "\n",
    "extract_text(training_set[training_set.author=='RedThunder90'])"
   ]
  },
  {
   "cell_type": "code",
   "execution_count": 34,
   "id": "1e004d17-4b40-40a0-85b9-fe91ed0c4ce1",
   "metadata": {},
   "outputs": [
    {
     "data": {
      "text/plain": [
       "'I still prefer to buy foods either grown locally or where animals are treated better, but this defin'"
      ]
     },
     "execution_count": 34,
     "metadata": {},
     "output_type": "execute_result"
    }
   ],
   "source": [
    "text_dict = {}\n",
    "\n",
    "for author, group in training_set.groupby('author'):\n",
    "    text_dict[author] = extract_text(group)\n",
    "\n",
    "author_text = [text_dict[author] for author in targets.author]\n",
    "author_text[0][:100]"
   ]
  },
  {
   "cell_type": "code",
   "execution_count": 35,
   "id": "39168880-3ec8-4491-9986-b36ad318b422",
   "metadata": {},
   "outputs": [
    {
     "data": {
      "text/html": [
       "<div>\n",
       "<style scoped>\n",
       "    .dataframe tbody tr th:only-of-type {\n",
       "        vertical-align: middle;\n",
       "    }\n",
       "\n",
       "    .dataframe tbody tr th {\n",
       "        vertical-align: top;\n",
       "    }\n",
       "\n",
       "    .dataframe thead th {\n",
       "        text-align: right;\n",
       "    }\n",
       "</style>\n",
       "<table border=\"1\" class=\"dataframe\">\n",
       "  <thead>\n",
       "    <tr style=\"text-align: right;\">\n",
       "      <th></th>\n",
       "      <th>author</th>\n",
       "      <th>subreddit</th>\n",
       "      <th>created_utc</th>\n",
       "      <th>body</th>\n",
       "    </tr>\n",
       "  </thead>\n",
       "  <tbody>\n",
       "    <tr>\n",
       "      <th>0</th>\n",
       "      <td>ejchristian86</td>\n",
       "      <td>TwoXChromosomes</td>\n",
       "      <td>1.388534e+09</td>\n",
       "      <td>I hadn't ever heard of them before joining thi...</td>\n",
       "    </tr>\n",
       "    <tr>\n",
       "      <th>1</th>\n",
       "      <td>ZenDragon</td>\n",
       "      <td>gaming</td>\n",
       "      <td>1.388534e+09</td>\n",
       "      <td>At 7680 by 4320 with 64x AA, right?</td>\n",
       "    </tr>\n",
       "    <tr>\n",
       "      <th>2</th>\n",
       "      <td>savoytruffle</td>\n",
       "      <td>AskReddit</td>\n",
       "      <td>1.388534e+09</td>\n",
       "      <td>bite me</td>\n",
       "    </tr>\n",
       "    <tr>\n",
       "      <th>3</th>\n",
       "      <td>hentercenter</td>\n",
       "      <td>stlouisblues</td>\n",
       "      <td>1.388534e+09</td>\n",
       "      <td>Damn that was a good penalty :(</td>\n",
       "    </tr>\n",
       "    <tr>\n",
       "      <th>4</th>\n",
       "      <td>rick-o-suave</td>\n",
       "      <td>army</td>\n",
       "      <td>1.388534e+09</td>\n",
       "      <td>I swore into DEP on 6-OCT and I left 5-NOV und...</td>\n",
       "    </tr>\n",
       "  </tbody>\n",
       "</table>\n",
       "</div>"
      ],
      "text/plain": [
       "          author        subreddit   created_utc  \\\n",
       "0  ejchristian86  TwoXChromosomes  1.388534e+09   \n",
       "1      ZenDragon           gaming  1.388534e+09   \n",
       "2   savoytruffle        AskReddit  1.388534e+09   \n",
       "3   hentercenter     stlouisblues  1.388534e+09   \n",
       "4   rick-o-suave             army  1.388534e+09   \n",
       "\n",
       "                                                body  \n",
       "0  I hadn't ever heard of them before joining thi...  \n",
       "1                At 7680 by 4320 with 64x AA, right?  \n",
       "2                                            bite me  \n",
       "3                    Damn that was a good penalty :(  \n",
       "4  I swore into DEP on 6-OCT and I left 5-NOV und...  "
      ]
     },
     "execution_count": 35,
     "metadata": {},
     "output_type": "execute_result"
    }
   ],
   "source": [
    "test_set = pd.read_csv(\"data/test_data.csv\", encoding=\"utf8\")\n",
    "test_set.head()"
   ]
  },
  {
   "cell_type": "code",
   "execution_count": 43,
   "id": "f87ea369-8436-45a3-8c49-a4ecb9625a63",
   "metadata": {},
   "outputs": [],
   "source": [
    "features_dict = {}\n",
    "\n",
    "for author, group in test_set.groupby('author'):\n",
    "    features_dict[author] = extract_features(group)"
   ]
  },
  {
   "cell_type": "code",
   "execution_count": 44,
   "id": "85c18dcc-0d2d-42d8-9c84-53cbbaad7064",
   "metadata": {},
   "outputs": [
    {
     "data": {
      "text/plain": [
       "<15000x3468 sparse matrix of type '<class 'numpy.float64'>'\n",
       "\twith 144898 stored elements in Compressed Sparse Row format>"
      ]
     },
     "execution_count": 44,
     "metadata": {},
     "output_type": "execute_result"
    }
   ],
   "source": [
    "X_test = sparse.vstack([features_dict[author] for author in test_set.author.unique()])\n",
    "X_test"
   ]
  },
  {
   "cell_type": "code",
   "execution_count": 46,
   "id": "d30c14f0-8311-420e-b284-f13b3380d606",
   "metadata": {},
   "outputs": [],
   "source": [
    "text_dict = {}\n",
    "\n",
    "for author, group in test_set.groupby('author'):\n",
    "    text_dict[author] = extract_text(group)\n",
    "\n",
    "author_text_test = [text_dict[author] for author in test_set.author.unique()]"
   ]
  },
  {
   "cell_type": "code",
   "execution_count": 63,
   "id": "abb46dfe-ca21-43f2-822f-6e67b0648eec",
   "metadata": {},
   "outputs": [
    {
     "data": {
      "text/plain": [
       "\"I hadn't ever heard of them before joining this subreddit. They're not really a big thing in the US, but are apparently very common in many European countries.\\n\\nA menstrual cup is a small silicone cup with a grip on the bottom (usually a small stick, though some companies offer ball and ring grips too) that you fold up and stick in your vagina\""
      ]
     },
     "execution_count": 63,
     "metadata": {},
     "output_type": "execute_result"
    }
   ],
   "source": [
    "author_text_test[0][:345]"
   ]
  },
  {
   "cell_type": "code",
   "execution_count": 57,
   "id": "da60d6d3-89f0-4c10-bf2b-9e03212a55e9",
   "metadata": {},
   "outputs": [],
   "source": [
    "y_pred = np.zeros(X_test.shape[0])"
   ]
  },
  {
   "cell_type": "code",
   "execution_count": 58,
   "id": "1359b4d7-1410-4bf2-8d42-7f5484f03780",
   "metadata": {},
   "outputs": [
    {
     "data": {
      "text/html": [
       "<div>\n",
       "<style scoped>\n",
       "    .dataframe tbody tr th:only-of-type {\n",
       "        vertical-align: middle;\n",
       "    }\n",
       "\n",
       "    .dataframe tbody tr th {\n",
       "        vertical-align: top;\n",
       "    }\n",
       "\n",
       "    .dataframe thead th {\n",
       "        text-align: right;\n",
       "    }\n",
       "</style>\n",
       "<table border=\"1\" class=\"dataframe\">\n",
       "  <thead>\n",
       "    <tr style=\"text-align: right;\">\n",
       "      <th></th>\n",
       "      <th>author</th>\n",
       "      <th>gender</th>\n",
       "    </tr>\n",
       "  </thead>\n",
       "  <tbody>\n",
       "    <tr>\n",
       "      <th>0</th>\n",
       "      <td>ejchristian86</td>\n",
       "      <td>0.0</td>\n",
       "    </tr>\n",
       "    <tr>\n",
       "      <th>1</th>\n",
       "      <td>ZenDragon</td>\n",
       "      <td>0.0</td>\n",
       "    </tr>\n",
       "    <tr>\n",
       "      <th>2</th>\n",
       "      <td>savoytruffle</td>\n",
       "      <td>0.0</td>\n",
       "    </tr>\n",
       "    <tr>\n",
       "      <th>3</th>\n",
       "      <td>hentercenter</td>\n",
       "      <td>0.0</td>\n",
       "    </tr>\n",
       "    <tr>\n",
       "      <th>4</th>\n",
       "      <td>rick-o-suave</td>\n",
       "      <td>0.0</td>\n",
       "    </tr>\n",
       "  </tbody>\n",
       "</table>\n",
       "</div>"
      ],
      "text/plain": [
       "          author  gender\n",
       "0  ejchristian86     0.0\n",
       "1      ZenDragon     0.0\n",
       "2   savoytruffle     0.0\n",
       "3   hentercenter     0.0\n",
       "4   rick-o-suave     0.0"
      ]
     },
     "execution_count": 58,
     "metadata": {},
     "output_type": "execute_result"
    }
   ],
   "source": [
    "solution = pd.DataFrame({\"author\":test_set.author.unique(), \"gender\":y_pred})\n",
    "solution.head()"
   ]
  },
  {
   "cell_type": "code",
   "execution_count": null,
   "id": "b9d9e100-3da8-40f4-955d-6f91ca03165b",
   "metadata": {},
   "outputs": [],
   "source": []
  }
 ],
 "metadata": {
  "kernelspec": {
   "display_name": "Python 3 (ipykernel)",
   "language": "python",
   "name": "python3"
  },
  "language_info": {
   "codemirror_mode": {
    "name": "ipython",
    "version": 3
   },
   "file_extension": ".py",
   "mimetype": "text/x-python",
   "name": "python",
   "nbconvert_exporter": "python",
   "pygments_lexer": "ipython3",
   "version": "3.10.6"
  }
 },
 "nbformat": 4,
 "nbformat_minor": 5
}
